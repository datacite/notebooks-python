{
 "metadata": {
  "language_info": {
   "codemirror_mode": {
    "name": "ipython",
    "version": 3
   },
   "file_extension": ".py",
   "mimetype": "text/x-python",
   "name": "python",
   "nbconvert_exporter": "python",
   "pygments_lexer": "ipython3",
   "version": "3.8.5-final"
  },
  "orig_nbformat": 2,
  "kernelspec": {
   "name": "python3",
   "display_name": "Python 3.8.5 64-bit",
   "metadata": {
    "interpreter": {
     "hash": "1ee38ef4a5a9feb55287fd749643f13d043cb0a7addaab2a9c224cbe137c0062"
    }
   }
  }
 },
 "nbformat": 4,
 "nbformat_minor": 2,
 "cells": [
  {
   "cell_type": "markdown",
   "metadata": {},
   "source": [
    "# Organisation/Funder/Repository Data Management Plans statistics\n",
    "\n",
    "Data management plans (DMPs) are documents accompanying research proposals and project outputs. DMPs are created as textual narratives and describe the data and tools employed in scientific investigations.They are sometimes seen as an administrative exercise and not as an integral part of research practice. Machine Actionable DMPs (maDMPs) take the DMP concept further by using PIDs and PIDs services to connect all resources associated with a DMP.\n",
    "\n",
    "\n",
    "This notebook displays all DMP statistics for an organisation, funder and/or data repository. By the end of this notebook, you will be able to succinctly display all the DMPs statistics for an organization, a funder and a repository. To demonstrate this we use the **California Digital Library**  as Organization (https://ror.org/03yrm5c26) and the ** European Commision** as Funder (https://doi.org/10.13039/501100000780). In the summary statistics you will find a row for each DMP of the EC. Each row includes the title of the DMP, the PID, number of datasets and related publications, people involved, organizations and funders.\n",
    "\n",
    "\n",
    "The process of displaying the DMP statistics is very simple. First, and after an initial setup, we fetch all we need from the DataCite GraphQL API. Then, we transform this data into a data structure that can be used for computation. Finally, we take the data transformation and supply it to a table.\n",
    "\n",
    "\n"
   ]
  },
  {
   "cell_type": "code",
   "execution_count": 1,
   "metadata": {},
   "outputs": [],
   "source": [
    "%%capture\n",
    "# Install required Python packages\n",
    "!pip install dfply\n",
    "\n",
    "import json\n",
    "import pandas as pd\n",
    "import numpy as np\n",
    "from dfply import *\n",
    "\n",
    "# Prepare the GraphQL client\n",
    "import requests\n",
    "from IPython.display import display, Markdown\n",
    "from gql import gql, Client\n",
    "from gql.transport.requests import RequestsHTTPTransport\n",
    "\n",
    "_transport = RequestsHTTPTransport(\n",
    "    url='https://api.datacite.org/graphql',\n",
    "    use_json=True,\n",
    ")\n",
    "\n",
    "client = Client(\n",
    "    transport=_transport,\n",
    "    fetch_schema_from_transport=True,\n",
    ")\n",
    "\n",
    "import ipywidgets as widgets\n",
    "f = widgets.Dropdown(\n",
    "    options=[('European Commission - ror.org/00k4n6c32', 'https://ror.org/00k4n6c32'), ('California Digital Library - ror.org/03yrm5c26','https://ror.org/03yrm5c26')],\n",
    "    value='https://ror.org/03yrm5c26',\n",
    "    description='Choose Organisation:',\n",
    "    disabled=False,\n",
    ")\n",
    "\n",
    "\n",
    "organizationQuery = gql(\"\"\"query getOutputs($rorId: ID!)\n",
    "{\n",
    "  organization(id: $rorId) {\n",
    "    name\n",
    "    dataManagementPlans(first: 10) {\n",
    "      totalCount\n",
    "      nodes {\n",
    "        id\n",
    "        title: titles(first: 1) {\n",
    "          title\n",
    "        }\n",
    "        datasets: citations(query:\"types.resourceTypeGeneral:Dataset\") {\n",
    "          totalCount\n",
    "        }\n",
    "        publications: citations(query:\"types.resourceTypeGeneral:Text\") {\n",
    "          totalCount\n",
    "        }\n",
    "        producer: contributors(contributorType: \"Producer\") {\n",
    "          id\n",
    "          title: name\n",
    "        }\n",
    "        funders: fundingReferences {\n",
    "          id: funderIdentifier\n",
    "          funderIdentifierType\n",
    "          title: funderName\n",
    "        }\n",
    "        people: creators {\n",
    "          id\n",
    "          name\n",
    "        }\n",
    "        contributors {\n",
    "          id\n",
    "          name\n",
    "        }\n",
    "      }\n",
    "    }\n",
    "  }\n",
    "}\n",
    "\"\"\")\n",
    "\n",
    "funderQuery = gql(\"\"\"query getOutputs($funderId: ID!)\n",
    "{\n",
    "  funder(id: $funderId) {\n",
    "    name\n",
    "    dataManagementPlans(first: 10) {\n",
    "      totalCount\n",
    "      nodes {\n",
    "        id\n",
    "        title: titles(first: 1) {\n",
    "          title\n",
    "        }\n",
    "        datasets: citations(query:\"types.resourceTypeGeneral:Dataset\") {\n",
    "          totalCount\n",
    "        }\n",
    "        publications: citations(query:\"types.resourceTypeGeneral:Text\") {\n",
    "          totalCount\n",
    "        }\n",
    "        producer: contributors(contributorType: \"Producer\") {\n",
    "          id\n",
    "          title: name\n",
    "        }\n",
    "        funders: fundingReferences {\n",
    "          id: funderIdentifier\n",
    "          funderIdentifierType\n",
    "          title: funderName\n",
    "        }\n",
    "        people: creators {\n",
    "          id\n",
    "          name\n",
    "        }\n",
    "        contributors {\n",
    "          id\n",
    "          name\n",
    "        }\n",
    "      }\n",
    "    }\n",
    "  }\n",
    "}\n",
    "\"\"\")\n",
    "\n",
    "repositoryQuery = gql(\"\"\"query getOutputs($repositoryId: ID!)\n",
    "{\n",
    "  repository(id: $repositoryId) {\n",
    "    name\n",
    "    dataManagementPlans(first: 10) {\n",
    "      totalCount\n",
    "      nodes {\n",
    "        id\n",
    "        title: titles(first: 1) {\n",
    "          title\n",
    "        }\n",
    "        datasets: citations(query:\"types.resourceTypeGeneral:Dataset\") {\n",
    "          totalCount\n",
    "        }\n",
    "        publications: citations(query:\"types.resourceTypeGeneral:Text\") {\n",
    "          totalCount\n",
    "        }\n",
    "        producer: contributors(contributorType: \"Producer\") {\n",
    "          id\n",
    "          title: name\n",
    "        }\n",
    "        funders: fundingReferences {\n",
    "          id: funderIdentifier\n",
    "          funderIdentifierType\n",
    "          title: funderName\n",
    "        }\n",
    "        people: creators {\n",
    "          id\n",
    "          name\n",
    "        }\n",
    "        contributors {\n",
    "          id\n",
    "          name\n",
    "        }\n",
    "      }\n",
    "    }\n",
    "  }\n",
    "}\n",
    "\"\"\")\n",
    "\n",
    "def get_data(type, pid):\n",
    "\n",
    "    repo_id = \"cdl.cdl\" if pid == \"https://ror.org/03yrm5c26\" else \"cern.zenodo\"\n",
    "    funder_id = \"https://doi.org/10.13039/100000141\" if pid == \"https://ror.org/03yrm5c26\" else \"https://doi.org/10.13039/501100000780\"\n",
    "    query_params = {\n",
    "        \"rorId\" : pid,\n",
    "        \"funderId\" : funder_id,\n",
    "        \"repositoryId\" : repo_id\n",
    "    }\n",
    "\n",
    "    if type == \"organization\":\n",
    "        return client.execute(organizationQuery, variable_values=json.dumps(query_params))[\"organization\"]\n",
    "    elif type == \"funder\":\n",
    "        return client.execute(funderQuery, variable_values=json.dumps(query_params))[\"funder\"]\n",
    "    else:\n",
    "        return client.execute(repositoryQuery, variable_values=json.dumps(query_params))[\"repository\"]\n",
    "\n",
    "def get_series_size(series_element):\n",
    "    return len(series_element)\n",
    "\n",
    "\n",
    "def get_total(series_element):\n",
    "    if len(series_element) == 0:\n",
    "        return 0\n",
    "    return series_element['totalCount']\n",
    "\n",
    "\n",
    "def dmp_header(row):\n",
    "    s = 'DMP: '+ row.dmp + '\\r Funder: '+row.funders+'\\r Producer: '+row.producer\n",
    "    return s\n",
    "\n",
    "\n",
    "def get_dataset_nodes(series_element):\n",
    "    return series_element['nodes']\n",
    "\n",
    "def get_title(series_element):\n",
    "    if len(series_element) == 0:\n",
    "        return \"None\"\n",
    "    return series_element[0]['title']\n",
    "\n",
    "def transform_dmps(dataframe):\n",
    "    \"\"\"Modifies each item to include attributes needed for the node visulisation\n",
    "\n",
    "    Parameters:\n",
    "    dataframe (dataframe): A dataframe with all the itemss\n",
    "    parent (int): The id of the parent node\n",
    "\n",
    "    Returns:\n",
    "    dataframe:Returning vthe same dataframe with new attributes\n",
    "\n",
    "   \"\"\"\n",
    "    if (dataframe) is None:\n",
    "        return pd.DataFrame() \n",
    "    else: \n",
    "        return (dataframe >>\n",
    "        mutate(\n",
    "            DMP = X.title.apply(get_title),\n",
    "            doi = X.id,\n",
    "            NumDatasets = X.datasets.apply(get_total),\n",
    "            NumPublications = X.publications.apply(get_total),\n",
    "            Producer = X.producer.apply(get_title),\n",
    "            Funder = X.funders.apply(get_title),\n",
    "            NumPeople = (X.people + X.contributors).apply(get_series_size)\n",
    "        ) \n",
    "        # >> \n",
    "        # mutate(\n",
    "        #     header = dmp_header(X),\n",
    "        # ) \n",
    "        # >>\n",
    "        # filter_by(\n",
    "        #     X.hostingInstitution > 0\n",
    "        # )\n",
    "        )\n",
    "\n",
    "def processTable(type, pid):\n",
    "    data = get_data(type, pid)\n",
    "    if len(data[\"dataManagementPlans\"]['nodes']) == 0:\n",
    "        return None\n",
    "    else:\n",
    "        table = pd.DataFrame(data[\"dataManagementPlans\"]['nodes'],columns=data[\"dataManagementPlans\"]['nodes'][0].keys())\n",
    "    return transform_dmps(table)[list(('DMP', 'Funder', 'Producer', 'NumDatasets','NumPublications','NumPeople', 'doi'))].style.set_caption(data['name'])    \n",
    "\n"
   ]
  },
  {
   "cell_type": "code",
   "execution_count": 2,
   "metadata": {},
   "outputs": [
    {
     "output_type": "display_data",
     "data": {
      "text/plain": "Dropdown(description='Choose Organisation:', index=1, options=(('European Commission - ror.org/00k4n6c32', 'ht…",
      "application/vnd.jupyter.widget-view+json": {
       "version_major": 2,
       "version_minor": 0,
       "model_id": "14fc6dc95a5c45a8bea99e39a7fdbd3b"
      }
     },
     "metadata": {}
    }
   ],
   "source": [
    "display(f)"
   ]
  },
  {
   "source": [
    "## DMP Statistics Visulisation\n",
    "\n",
    "\n",
    "The following three tables show the DMP Statistics for three different entities. Each of the tables includes the DMP title, its funding body, producer, host, and summary statistics about the number of datasets, publications, and people linked to the DMP. The first table displays DMP statistics that are hosted by the California Digital Library. The next table displays the statistics of DMPs funded by the European Commission. Finally, the last table shows the DMP statistics stored in the Zenodo Repository."
   ],
   "cell_type": "markdown",
   "metadata": {}
  },
  {
   "cell_type": "code",
   "execution_count": 3,
   "metadata": {
    "tags": []
   },
   "outputs": [
    {
     "output_type": "execute_result",
     "data": {
      "text/plain": [
       "<pandas.io.formats.style.Styler at 0x11a30bfa0>"
      ],
      "text/html": "<style  type=\"text/css\" >\n</style><table id=\"T_96892630_6091_11eb_a6a8_a683e7df5c7f\" ><caption>California Digital Library</caption><thead>    <tr>        <th class=\"blank level0\" ></th>        <th class=\"col_heading level0 col0\" >DMP</th>        <th class=\"col_heading level0 col1\" >Funder</th>        <th class=\"col_heading level0 col2\" >Producer</th>        <th class=\"col_heading level0 col3\" >NumDatasets</th>        <th class=\"col_heading level0 col4\" >NumPublications</th>        <th class=\"col_heading level0 col5\" >NumPeople</th>        <th class=\"col_heading level0 col6\" >doi</th>    </tr></thead><tbody>\n                <tr>\n                        <th id=\"T_96892630_6091_11eb_a6a8_a683e7df5c7flevel0_row0\" class=\"row_heading level0 row0\" >0</th>\n                        <td id=\"T_96892630_6091_11eb_a6a8_a683e7df5c7frow0_col0\" class=\"data row0 col0\" >DMPRoadmap: Making Data Management Plans Actionable</td>\n                        <td id=\"T_96892630_6091_11eb_a6a8_a683e7df5c7frow0_col1\" class=\"data row0 col1\" >National Science Foundation (NSF)</td>\n                        <td id=\"T_96892630_6091_11eb_a6a8_a683e7df5c7frow0_col2\" class=\"data row0 col2\" >University Of California System</td>\n                        <td id=\"T_96892630_6091_11eb_a6a8_a683e7df5c7frow0_col3\" class=\"data row0 col3\" >0</td>\n                        <td id=\"T_96892630_6091_11eb_a6a8_a683e7df5c7frow0_col4\" class=\"data row0 col4\" >0</td>\n                        <td id=\"T_96892630_6091_11eb_a6a8_a683e7df5c7frow0_col5\" class=\"data row0 col5\" >4</td>\n                        <td id=\"T_96892630_6091_11eb_a6a8_a683e7df5c7frow0_col6\" class=\"data row0 col6\" >https://doi.org/10.48321/d1mw28</td>\n            </tr>\n            <tr>\n                        <th id=\"T_96892630_6091_11eb_a6a8_a683e7df5c7flevel0_row1\" class=\"row_heading level0 row1\" >1</th>\n                        <td id=\"T_96892630_6091_11eb_a6a8_a683e7df5c7frow1_col0\" class=\"data row1 col0\" >LTREB: Drivers of temperate forest carbon storage from canopy closure through successional time</td>\n                        <td id=\"T_96892630_6091_11eb_a6a8_a683e7df5c7frow1_col1\" class=\"data row1 col1\" >National Science Foundation (NSF)</td>\n                        <td id=\"T_96892630_6091_11eb_a6a8_a683e7df5c7frow1_col2\" class=\"data row1 col2\" >University Of Michigan</td>\n                        <td id=\"T_96892630_6091_11eb_a6a8_a683e7df5c7frow1_col3\" class=\"data row1 col3\" >1</td>\n                        <td id=\"T_96892630_6091_11eb_a6a8_a683e7df5c7frow1_col4\" class=\"data row1 col4\" >3</td>\n                        <td id=\"T_96892630_6091_11eb_a6a8_a683e7df5c7frow1_col5\" class=\"data row1 col5\" >5</td>\n                        <td id=\"T_96892630_6091_11eb_a6a8_a683e7df5c7frow1_col6\" class=\"data row1 col6\" >https://doi.org/10.48321/d1h59r</td>\n            </tr>\n            <tr>\n                        <th id=\"T_96892630_6091_11eb_a6a8_a683e7df5c7flevel0_row2\" class=\"row_heading level0 row2\" >2</th>\n                        <td id=\"T_96892630_6091_11eb_a6a8_a683e7df5c7frow2_col0\" class=\"data row2 col0\" >Late Season Productivity, Carbon, and Nutrient Dynamics in a Changing Arctic</td>\n                        <td id=\"T_96892630_6091_11eb_a6a8_a683e7df5c7frow2_col1\" class=\"data row2 col1\" >National Science Foundation (NSF)</td>\n                        <td id=\"T_96892630_6091_11eb_a6a8_a683e7df5c7frow2_col2\" class=\"data row2 col2\" >Oregon State University</td>\n                        <td id=\"T_96892630_6091_11eb_a6a8_a683e7df5c7frow2_col3\" class=\"data row2 col3\" >0</td>\n                        <td id=\"T_96892630_6091_11eb_a6a8_a683e7df5c7frow2_col4\" class=\"data row2 col4\" >0</td>\n                        <td id=\"T_96892630_6091_11eb_a6a8_a683e7df5c7frow2_col5\" class=\"data row2 col5\" >5</td>\n                        <td id=\"T_96892630_6091_11eb_a6a8_a683e7df5c7frow2_col6\" class=\"data row2 col6\" >https://doi.org/10.48321/d17p4j</td>\n            </tr>\n            <tr>\n                        <th id=\"T_96892630_6091_11eb_a6a8_a683e7df5c7flevel0_row3\" class=\"row_heading level0 row3\" >3</th>\n                        <td id=\"T_96892630_6091_11eb_a6a8_a683e7df5c7frow3_col0\" class=\"data row3 col0\" >REU Site: A Multidisciplinary Research Experience in Engineered Bioactive Interfaces and Devices</td>\n                        <td id=\"T_96892630_6091_11eb_a6a8_a683e7df5c7frow3_col1\" class=\"data row3 col1\" >National Science Foundation (NSF)</td>\n                        <td id=\"T_96892630_6091_11eb_a6a8_a683e7df5c7frow3_col2\" class=\"data row3 col2\" >University Of Kentucky</td>\n                        <td id=\"T_96892630_6091_11eb_a6a8_a683e7df5c7frow3_col3\" class=\"data row3 col3\" >0</td>\n                        <td id=\"T_96892630_6091_11eb_a6a8_a683e7df5c7frow3_col4\" class=\"data row3 col4\" >0</td>\n                        <td id=\"T_96892630_6091_11eb_a6a8_a683e7df5c7frow3_col5\" class=\"data row3 col5\" >4</td>\n                        <td id=\"T_96892630_6091_11eb_a6a8_a683e7df5c7frow3_col6\" class=\"data row3 col6\" >https://doi.org/10.48321/d1cc7t</td>\n            </tr>\n            <tr>\n                        <th id=\"T_96892630_6091_11eb_a6a8_a683e7df5c7flevel0_row4\" class=\"row_heading level0 row4\" >4</th>\n                        <td id=\"T_96892630_6091_11eb_a6a8_a683e7df5c7frow4_col0\" class=\"data row4 col0\" >Brown carbon characterization</td>\n                        <td id=\"T_96892630_6091_11eb_a6a8_a683e7df5c7frow4_col1\" class=\"data row4 col1\" >National Science Foundation (NSF)</td>\n                        <td id=\"T_96892630_6091_11eb_a6a8_a683e7df5c7frow4_col2\" class=\"data row4 col2\" >College, Harvey Mudd</td>\n                        <td id=\"T_96892630_6091_11eb_a6a8_a683e7df5c7frow4_col3\" class=\"data row4 col3\" >0</td>\n                        <td id=\"T_96892630_6091_11eb_a6a8_a683e7df5c7frow4_col4\" class=\"data row4 col4\" >2</td>\n                        <td id=\"T_96892630_6091_11eb_a6a8_a683e7df5c7frow4_col5\" class=\"data row4 col5\" >3</td>\n                        <td id=\"T_96892630_6091_11eb_a6a8_a683e7df5c7frow4_col6\" class=\"data row4 col6\" >https://doi.org/10.48321/d13w2m</td>\n            </tr>\n            <tr>\n                        <th id=\"T_96892630_6091_11eb_a6a8_a683e7df5c7flevel0_row5\" class=\"row_heading level0 row5\" >5</th>\n                        <td id=\"T_96892630_6091_11eb_a6a8_a683e7df5c7frow5_col0\" class=\"data row5 col0\" >A Political Ecology of Value: A Cohort-Based Ethnography of the Environmental Turn in Nicaraguan Urban Social Policy</td>\n                        <td id=\"T_96892630_6091_11eb_a6a8_a683e7df5c7frow5_col1\" class=\"data row5 col1\" >National Science Foundation (NSF)</td>\n                        <td id=\"T_96892630_6091_11eb_a6a8_a683e7df5c7frow5_col2\" class=\"data row5 col2\" >Western Washington University</td>\n                        <td id=\"T_96892630_6091_11eb_a6a8_a683e7df5c7frow5_col3\" class=\"data row5 col3\" >0</td>\n                        <td id=\"T_96892630_6091_11eb_a6a8_a683e7df5c7frow5_col4\" class=\"data row5 col4\" >2</td>\n                        <td id=\"T_96892630_6091_11eb_a6a8_a683e7df5c7frow5_col5\" class=\"data row5 col5\" >3</td>\n                        <td id=\"T_96892630_6091_11eb_a6a8_a683e7df5c7frow5_col6\" class=\"data row5 col6\" >https://doi.org/10.48321/d10593</td>\n            </tr>\n            <tr>\n                        <th id=\"T_96892630_6091_11eb_a6a8_a683e7df5c7flevel0_row6\" class=\"row_heading level0 row6\" >6</th>\n                        <td id=\"T_96892630_6091_11eb_a6a8_a683e7df5c7frow6_col0\" class=\"data row6 col0\" >Finding Levers for Privacy and Security by Design in Mobile Development</td>\n                        <td id=\"T_96892630_6091_11eb_a6a8_a683e7df5c7frow6_col1\" class=\"data row6 col1\" >National Science Foundation (NSF)</td>\n                        <td id=\"T_96892630_6091_11eb_a6a8_a683e7df5c7frow6_col2\" class=\"data row6 col2\" >University Of Maryland, College Park</td>\n                        <td id=\"T_96892630_6091_11eb_a6a8_a683e7df5c7frow6_col3\" class=\"data row6 col3\" >0</td>\n                        <td id=\"T_96892630_6091_11eb_a6a8_a683e7df5c7frow6_col4\" class=\"data row6 col4\" >6</td>\n                        <td id=\"T_96892630_6091_11eb_a6a8_a683e7df5c7frow6_col5\" class=\"data row6 col5\" >4</td>\n                        <td id=\"T_96892630_6091_11eb_a6a8_a683e7df5c7frow6_col6\" class=\"data row6 col6\" >https://doi.org/10.48321/d1vc75</td>\n            </tr>\n            <tr>\n                        <th id=\"T_96892630_6091_11eb_a6a8_a683e7df5c7flevel0_row7\" class=\"row_heading level0 row7\" >7</th>\n                        <td id=\"T_96892630_6091_11eb_a6a8_a683e7df5c7frow7_col0\" class=\"data row7 col0\" >Use of telemetry and the Acoustic Wave Glider to study southern flounder migrations</td>\n                        <td id=\"T_96892630_6091_11eb_a6a8_a683e7df5c7frow7_col1\" class=\"data row7 col1\" >National Science Foundation (NSF)</td>\n                        <td id=\"T_96892630_6091_11eb_a6a8_a683e7df5c7frow7_col2\" class=\"data row7 col2\" >East Carolina University</td>\n                        <td id=\"T_96892630_6091_11eb_a6a8_a683e7df5c7frow7_col3\" class=\"data row7 col3\" >0</td>\n                        <td id=\"T_96892630_6091_11eb_a6a8_a683e7df5c7frow7_col4\" class=\"data row7 col4\" >0</td>\n                        <td id=\"T_96892630_6091_11eb_a6a8_a683e7df5c7frow7_col5\" class=\"data row7 col5\" >6</td>\n                        <td id=\"T_96892630_6091_11eb_a6a8_a683e7df5c7frow7_col6\" class=\"data row7 col6\" >https://doi.org/10.48321/d1kw2z</td>\n            </tr>\n            <tr>\n                        <th id=\"T_96892630_6091_11eb_a6a8_a683e7df5c7flevel0_row8\" class=\"row_heading level0 row8\" >8</th>\n                        <td id=\"T_96892630_6091_11eb_a6a8_a683e7df5c7frow8_col0\" class=\"data row8 col0\" >The Virgin Islands Partnership to Increase Participation and Engagement through Linked, Informal, Nurturing Experiences in STEM (V.I. PIPELINES)</td>\n                        <td id=\"T_96892630_6091_11eb_a6a8_a683e7df5c7frow8_col1\" class=\"data row8 col1\" >National Science Foundation (NSF)</td>\n                        <td id=\"T_96892630_6091_11eb_a6a8_a683e7df5c7frow8_col2\" class=\"data row8 col2\" >University Of The Virgin Islands</td>\n                        <td id=\"T_96892630_6091_11eb_a6a8_a683e7df5c7frow8_col3\" class=\"data row8 col3\" >0</td>\n                        <td id=\"T_96892630_6091_11eb_a6a8_a683e7df5c7frow8_col4\" class=\"data row8 col4\" >0</td>\n                        <td id=\"T_96892630_6091_11eb_a6a8_a683e7df5c7frow8_col5\" class=\"data row8 col5\" >7</td>\n                        <td id=\"T_96892630_6091_11eb_a6a8_a683e7df5c7frow8_col6\" class=\"data row8 col6\" >https://doi.org/10.48321/d1qp4w</td>\n            </tr>\n            <tr>\n                        <th id=\"T_96892630_6091_11eb_a6a8_a683e7df5c7flevel0_row9\" class=\"row_heading level0 row9\" >9</th>\n                        <td id=\"T_96892630_6091_11eb_a6a8_a683e7df5c7frow9_col0\" class=\"data row9 col0\" >DMP for The Role of Temperature in Regulating Herbivory and Algal Biomass in Upwelling Systems</td>\n                        <td id=\"T_96892630_6091_11eb_a6a8_a683e7df5c7frow9_col1\" class=\"data row9 col1\" >National Science Foundation (NSF)</td>\n                        <td id=\"T_96892630_6091_11eb_a6a8_a683e7df5c7frow9_col2\" class=\"data row9 col2\" >University Of North Carolina, Chapel Hill</td>\n                        <td id=\"T_96892630_6091_11eb_a6a8_a683e7df5c7frow9_col3\" class=\"data row9 col3\" >0</td>\n                        <td id=\"T_96892630_6091_11eb_a6a8_a683e7df5c7frow9_col4\" class=\"data row9 col4\" >13</td>\n                        <td id=\"T_96892630_6091_11eb_a6a8_a683e7df5c7frow9_col5\" class=\"data row9 col5\" >3</td>\n                        <td id=\"T_96892630_6091_11eb_a6a8_a683e7df5c7frow9_col6\" class=\"data row9 col6\" >https://doi.org/10.48321/d1g59f</td>\n            </tr>\n    </tbody></table>"
     },
     "metadata": {},
     "execution_count": 3
    }
   ],
   "source": [
    "processTable(\"organization\", f.value)"
   ]
  },
  {
   "cell_type": "code",
   "execution_count": 4,
   "metadata": {
    "tags": []
   },
   "outputs": [
    {
     "output_type": "execute_result",
     "data": {
      "text/plain": [
       "<pandas.io.formats.style.Styler at 0x11b315730>"
      ],
      "text/html": "<style  type=\"text/css\" >\n</style><table id=\"T_ad80c582_6091_11eb_a6a8_a683e7df5c7f\" ><caption>Division of Ocean Sciences</caption><thead>    <tr>        <th class=\"blank level0\" ></th>        <th class=\"col_heading level0 col0\" >DMP</th>        <th class=\"col_heading level0 col1\" >Funder</th>        <th class=\"col_heading level0 col2\" >Producer</th>        <th class=\"col_heading level0 col3\" >NumDatasets</th>        <th class=\"col_heading level0 col4\" >NumPublications</th>        <th class=\"col_heading level0 col5\" >NumPeople</th>        <th class=\"col_heading level0 col6\" >doi</th>    </tr></thead><tbody>\n                <tr>\n                        <th id=\"T_ad80c582_6091_11eb_a6a8_a683e7df5c7flevel0_row0\" class=\"row_heading level0 row0\" >0</th>\n                        <td id=\"T_ad80c582_6091_11eb_a6a8_a683e7df5c7frow0_col0\" class=\"data row0 col0\" >Impacts of size-selective mortality on sex-changing fishes</td>\n                        <td id=\"T_ad80c582_6091_11eb_a6a8_a683e7df5c7frow0_col1\" class=\"data row0 col1\" >Division of Ocean Sciences (nsf.gov)</td>\n                        <td id=\"T_ad80c582_6091_11eb_a6a8_a683e7df5c7frow0_col2\" class=\"data row0 col2\" >Oregon State University</td>\n                        <td id=\"T_ad80c582_6091_11eb_a6a8_a683e7df5c7frow0_col3\" class=\"data row0 col3\" >0</td>\n                        <td id=\"T_ad80c582_6091_11eb_a6a8_a683e7df5c7frow0_col4\" class=\"data row0 col4\" >4</td>\n                        <td id=\"T_ad80c582_6091_11eb_a6a8_a683e7df5c7frow0_col5\" class=\"data row0 col5\" >4</td>\n                        <td id=\"T_ad80c582_6091_11eb_a6a8_a683e7df5c7frow0_col6\" class=\"data row0 col6\" >https://doi.org/10.48321/d1101n</td>\n            </tr>\n            <tr>\n                        <th id=\"T_ad80c582_6091_11eb_a6a8_a683e7df5c7flevel0_row1\" class=\"row_heading level0 row1\" >1</th>\n                        <td id=\"T_ad80c582_6091_11eb_a6a8_a683e7df5c7frow1_col0\" class=\"data row1 col0\" >Turbulence-spurred settlement: Deciphering a newly recognized class of larval response</td>\n                        <td id=\"T_ad80c582_6091_11eb_a6a8_a683e7df5c7frow1_col1\" class=\"data row1 col1\" >Division of Ocean Sciences (nsf.gov)</td>\n                        <td id=\"T_ad80c582_6091_11eb_a6a8_a683e7df5c7frow1_col2\" class=\"data row1 col2\" >San Francisco State University (Sfsu.Edu)</td>\n                        <td id=\"T_ad80c582_6091_11eb_a6a8_a683e7df5c7frow1_col3\" class=\"data row1 col3\" >0</td>\n                        <td id=\"T_ad80c582_6091_11eb_a6a8_a683e7df5c7frow1_col4\" class=\"data row1 col4\" >4</td>\n                        <td id=\"T_ad80c582_6091_11eb_a6a8_a683e7df5c7frow1_col5\" class=\"data row1 col5\" >6</td>\n                        <td id=\"T_ad80c582_6091_11eb_a6a8_a683e7df5c7frow1_col6\" class=\"data row1 col6\" >https://doi.org/10.48321/d14s38</td>\n            </tr>\n            <tr>\n                        <th id=\"T_ad80c582_6091_11eb_a6a8_a683e7df5c7flevel0_row2\" class=\"row_heading level0 row2\" >2</th>\n                        <td id=\"T_ad80c582_6091_11eb_a6a8_a683e7df5c7frow2_col0\" class=\"data row2 col0\" >Collaborative Research: New Approaches to New Production</td>\n                        <td id=\"T_ad80c582_6091_11eb_a6a8_a683e7df5c7frow2_col1\" class=\"data row2 col1\" >Division of Ocean Sciences (nsf.gov)</td>\n                        <td id=\"T_ad80c582_6091_11eb_a6a8_a683e7df5c7frow2_col2\" class=\"data row2 col2\" >University Of Southern California (Usc.Edu)</td>\n                        <td id=\"T_ad80c582_6091_11eb_a6a8_a683e7df5c7frow2_col3\" class=\"data row2 col3\" >0</td>\n                        <td id=\"T_ad80c582_6091_11eb_a6a8_a683e7df5c7frow2_col4\" class=\"data row2 col4\" >7</td>\n                        <td id=\"T_ad80c582_6091_11eb_a6a8_a683e7df5c7frow2_col5\" class=\"data row2 col5\" >4</td>\n                        <td id=\"T_ad80c582_6091_11eb_a6a8_a683e7df5c7frow2_col6\" class=\"data row2 col6\" >https://doi.org/10.48321/d1w88t</td>\n            </tr>\n            <tr>\n                        <th id=\"T_ad80c582_6091_11eb_a6a8_a683e7df5c7flevel0_row3\" class=\"row_heading level0 row3\" >3</th>\n                        <td id=\"T_ad80c582_6091_11eb_a6a8_a683e7df5c7frow3_col0\" class=\"data row3 col0\" >Adaptations of fish and fishing communities to rapid climate change</td>\n                        <td id=\"T_ad80c582_6091_11eb_a6a8_a683e7df5c7frow3_col1\" class=\"data row3 col1\" >Division of Ocean Sciences (nsf.gov)</td>\n                        <td id=\"T_ad80c582_6091_11eb_a6a8_a683e7df5c7frow3_col2\" class=\"data row3 col2\" >University Of California, Santa Barbara (Ucsb.Edu)</td>\n                        <td id=\"T_ad80c582_6091_11eb_a6a8_a683e7df5c7frow3_col3\" class=\"data row3 col3\" >1</td>\n                        <td id=\"T_ad80c582_6091_11eb_a6a8_a683e7df5c7frow3_col4\" class=\"data row3 col4\" >10</td>\n                        <td id=\"T_ad80c582_6091_11eb_a6a8_a683e7df5c7frow3_col5\" class=\"data row3 col5\" >9</td>\n                        <td id=\"T_ad80c582_6091_11eb_a6a8_a683e7df5c7frow3_col6\" class=\"data row3 col6\" >https://doi.org/10.48321/d1h010</td>\n            </tr>\n            <tr>\n                        <th id=\"T_ad80c582_6091_11eb_a6a8_a683e7df5c7flevel0_row4\" class=\"row_heading level0 row4\" >4</th>\n                        <td id=\"T_ad80c582_6091_11eb_a6a8_a683e7df5c7frow4_col0\" class=\"data row4 col0\" >Gene content, gene expression, and physiology in mesopelagic ammonia-oxidizing archaea</td>\n                        <td id=\"T_ad80c582_6091_11eb_a6a8_a683e7df5c7frow4_col1\" class=\"data row4 col1\" >Division of Ocean Sciences (nsf.gov)</td>\n                        <td id=\"T_ad80c582_6091_11eb_a6a8_a683e7df5c7frow4_col2\" class=\"data row4 col2\" >J. Craig Venter Institute (Jcvi.Org)</td>\n                        <td id=\"T_ad80c582_6091_11eb_a6a8_a683e7df5c7frow4_col3\" class=\"data row4 col3\" >0</td>\n                        <td id=\"T_ad80c582_6091_11eb_a6a8_a683e7df5c7frow4_col4\" class=\"data row4 col4\" >1</td>\n                        <td id=\"T_ad80c582_6091_11eb_a6a8_a683e7df5c7frow4_col5\" class=\"data row4 col5\" >4</td>\n                        <td id=\"T_ad80c582_6091_11eb_a6a8_a683e7df5c7frow4_col6\" class=\"data row4 col6\" >https://doi.org/10.48321/d1ms3m</td>\n            </tr>\n            <tr>\n                        <th id=\"T_ad80c582_6091_11eb_a6a8_a683e7df5c7flevel0_row5\" class=\"row_heading level0 row5\" >5</th>\n                        <td id=\"T_ad80c582_6091_11eb_a6a8_a683e7df5c7frow5_col0\" class=\"data row5 col0\" >Collaborative Research: Ocean Acidification and Coral Reefs: Scale Dependence and Adaptive Capacity</td>\n                        <td id=\"T_ad80c582_6091_11eb_a6a8_a683e7df5c7frow5_col1\" class=\"data row5 col1\" >Division of Ocean Sciences (nsf.gov)</td>\n                        <td id=\"T_ad80c582_6091_11eb_a6a8_a683e7df5c7frow5_col2\" class=\"data row5 col2\" >California State University, Northridge (Csun.Edu)</td>\n                        <td id=\"T_ad80c582_6091_11eb_a6a8_a683e7df5c7frow5_col3\" class=\"data row5 col3\" >1</td>\n                        <td id=\"T_ad80c582_6091_11eb_a6a8_a683e7df5c7frow5_col4\" class=\"data row5 col4\" >11</td>\n                        <td id=\"T_ad80c582_6091_11eb_a6a8_a683e7df5c7frow5_col5\" class=\"data row5 col5\" >8</td>\n                        <td id=\"T_ad80c582_6091_11eb_a6a8_a683e7df5c7frow5_col6\" class=\"data row5 col6\" >https://doi.org/10.48321/d1rg6w</td>\n            </tr>\n            <tr>\n                        <th id=\"T_ad80c582_6091_11eb_a6a8_a683e7df5c7flevel0_row6\" class=\"row_heading level0 row6\" >6</th>\n                        <td id=\"T_ad80c582_6091_11eb_a6a8_a683e7df5c7frow6_col0\" class=\"data row6 col0\" >Collaborative research: Quantifying the biological, chemical, and physical linkages between chemosynthetic communities and the surrounding deep sea</td>\n                        <td id=\"T_ad80c582_6091_11eb_a6a8_a683e7df5c7frow6_col1\" class=\"data row6 col1\" >Division of Ocean Sciences (nsf.gov)</td>\n                        <td id=\"T_ad80c582_6091_11eb_a6a8_a683e7df5c7frow6_col2\" class=\"data row6 col2\" >University Of California, San Diego (Ucsd.Edu)</td>\n                        <td id=\"T_ad80c582_6091_11eb_a6a8_a683e7df5c7frow6_col3\" class=\"data row6 col3\" >7</td>\n                        <td id=\"T_ad80c582_6091_11eb_a6a8_a683e7df5c7frow6_col4\" class=\"data row6 col4\" >3</td>\n                        <td id=\"T_ad80c582_6091_11eb_a6a8_a683e7df5c7frow6_col5\" class=\"data row6 col5\" >8</td>\n                        <td id=\"T_ad80c582_6091_11eb_a6a8_a683e7df5c7frow6_col6\" class=\"data row6 col6\" >https://doi.org/10.48321/d17g67</td>\n            </tr>\n            <tr>\n                        <th id=\"T_ad80c582_6091_11eb_a6a8_a683e7df5c7flevel0_row7\" class=\"row_heading level0 row7\" >7</th>\n                        <td id=\"T_ad80c582_6091_11eb_a6a8_a683e7df5c7frow7_col0\" class=\"data row7 col0\" >Collaborative Research: Field test of larval behavior on transport and connectivity in an upwelling regime</td>\n                        <td id=\"T_ad80c582_6091_11eb_a6a8_a683e7df5c7frow7_col1\" class=\"data row7 col1\" >Division of Ocean Sciences (nsf.gov)</td>\n                        <td id=\"T_ad80c582_6091_11eb_a6a8_a683e7df5c7frow7_col2\" class=\"data row7 col2\" >University Of California, Davis (Ucdavis.Edu)</td>\n                        <td id=\"T_ad80c582_6091_11eb_a6a8_a683e7df5c7frow7_col3\" class=\"data row7 col3\" >0</td>\n                        <td id=\"T_ad80c582_6091_11eb_a6a8_a683e7df5c7frow7_col4\" class=\"data row7 col4\" >0</td>\n                        <td id=\"T_ad80c582_6091_11eb_a6a8_a683e7df5c7frow7_col5\" class=\"data row7 col5\" >6</td>\n                        <td id=\"T_ad80c582_6091_11eb_a6a8_a683e7df5c7frow7_col6\" class=\"data row7 col6\" >https://doi.org/10.48321/d1c885</td>\n            </tr>\n            <tr>\n                        <th id=\"T_ad80c582_6091_11eb_a6a8_a683e7df5c7flevel0_row8\" class=\"row_heading level0 row8\" >8</th>\n                        <td id=\"T_ad80c582_6091_11eb_a6a8_a683e7df5c7frow8_col0\" class=\"data row8 col0\" >Collaborative Research: Dissolved organic matter feedbacks in coral reef resilience: The genomic &amp; geochemical basis for microbial modulation of algal phase shifts</td>\n                        <td id=\"T_ad80c582_6091_11eb_a6a8_a683e7df5c7frow8_col1\" class=\"data row8 col1\" >Division of Ocean Sciences (nsf.gov)</td>\n                        <td id=\"T_ad80c582_6091_11eb_a6a8_a683e7df5c7frow8_col2\" class=\"data row8 col2\" >University Of Hawaii At Manoa (Manoa.Hawaii.Edu)</td>\n                        <td id=\"T_ad80c582_6091_11eb_a6a8_a683e7df5c7frow8_col3\" class=\"data row8 col3\" >0</td>\n                        <td id=\"T_ad80c582_6091_11eb_a6a8_a683e7df5c7frow8_col4\" class=\"data row8 col4\" >10</td>\n                        <td id=\"T_ad80c582_6091_11eb_a6a8_a683e7df5c7frow8_col5\" class=\"data row8 col5\" >6</td>\n                        <td id=\"T_ad80c582_6091_11eb_a6a8_a683e7df5c7frow8_col6\" class=\"data row8 col6\" >https://doi.org/10.48321/d1001b</td>\n            </tr>\n            <tr>\n                        <th id=\"T_ad80c582_6091_11eb_a6a8_a683e7df5c7flevel0_row9\" class=\"row_heading level0 row9\" >9</th>\n                        <td id=\"T_ad80c582_6091_11eb_a6a8_a683e7df5c7frow9_col0\" class=\"data row9 col0\" >Quantifying the potential for biogeochemical feedbacks to create 'refugia' from ocean acidification on tropical coral reefs</td>\n                        <td id=\"T_ad80c582_6091_11eb_a6a8_a683e7df5c7frow9_col1\" class=\"data row9 col1\" >Division of Ocean Sciences (nsf.gov)</td>\n                        <td id=\"T_ad80c582_6091_11eb_a6a8_a683e7df5c7frow9_col2\" class=\"data row9 col2\" >Carnegie Institution For Science (Carnegiescience.Edu)</td>\n                        <td id=\"T_ad80c582_6091_11eb_a6a8_a683e7df5c7frow9_col3\" class=\"data row9 col3\" >0</td>\n                        <td id=\"T_ad80c582_6091_11eb_a6a8_a683e7df5c7frow9_col4\" class=\"data row9 col4\" >1</td>\n                        <td id=\"T_ad80c582_6091_11eb_a6a8_a683e7df5c7frow9_col5\" class=\"data row9 col5\" >7</td>\n                        <td id=\"T_ad80c582_6091_11eb_a6a8_a683e7df5c7frow9_col6\" class=\"data row9 col6\" >https://doi.org/10.48321/d13s3z</td>\n            </tr>\n    </tbody></table>"
     },
     "metadata": {},
     "execution_count": 4
    }
   ],
   "source": [
    "processTable(\"funder\", f.value)"
   ]
  },
  {
   "cell_type": "code",
   "execution_count": 5,
   "metadata": {
    "tags": []
   },
   "outputs": [
    {
     "output_type": "execute_result",
     "data": {
      "text/plain": [
       "<pandas.io.formats.style.Styler at 0x11b4f0b50>"
      ],
      "text/html": "<style  type=\"text/css\" >\n</style><table id=\"T_bc61835c_6091_11eb_a6a8_a683e7df5c7f\" ><caption>California Digital Library</caption><thead>    <tr>        <th class=\"blank level0\" ></th>        <th class=\"col_heading level0 col0\" >DMP</th>        <th class=\"col_heading level0 col1\" >Funder</th>        <th class=\"col_heading level0 col2\" >Producer</th>        <th class=\"col_heading level0 col3\" >NumDatasets</th>        <th class=\"col_heading level0 col4\" >NumPublications</th>        <th class=\"col_heading level0 col5\" >NumPeople</th>        <th class=\"col_heading level0 col6\" >doi</th>    </tr></thead><tbody>\n                <tr>\n                        <th id=\"T_bc61835c_6091_11eb_a6a8_a683e7df5c7flevel0_row0\" class=\"row_heading level0 row0\" >0</th>\n                        <td id=\"T_bc61835c_6091_11eb_a6a8_a683e7df5c7frow0_col0\" class=\"data row0 col0\" >DMPRoadmap: Making Data Management Plans Actionable</td>\n                        <td id=\"T_bc61835c_6091_11eb_a6a8_a683e7df5c7frow0_col1\" class=\"data row0 col1\" >National Science Foundation (NSF)</td>\n                        <td id=\"T_bc61835c_6091_11eb_a6a8_a683e7df5c7frow0_col2\" class=\"data row0 col2\" >University Of California System</td>\n                        <td id=\"T_bc61835c_6091_11eb_a6a8_a683e7df5c7frow0_col3\" class=\"data row0 col3\" >0</td>\n                        <td id=\"T_bc61835c_6091_11eb_a6a8_a683e7df5c7frow0_col4\" class=\"data row0 col4\" >0</td>\n                        <td id=\"T_bc61835c_6091_11eb_a6a8_a683e7df5c7frow0_col5\" class=\"data row0 col5\" >4</td>\n                        <td id=\"T_bc61835c_6091_11eb_a6a8_a683e7df5c7frow0_col6\" class=\"data row0 col6\" >https://doi.org/10.48321/d1mw28</td>\n            </tr>\n            <tr>\n                        <th id=\"T_bc61835c_6091_11eb_a6a8_a683e7df5c7flevel0_row1\" class=\"row_heading level0 row1\" >1</th>\n                        <td id=\"T_bc61835c_6091_11eb_a6a8_a683e7df5c7frow1_col0\" class=\"data row1 col0\" >LTREB: Drivers of temperate forest carbon storage from canopy closure through successional time</td>\n                        <td id=\"T_bc61835c_6091_11eb_a6a8_a683e7df5c7frow1_col1\" class=\"data row1 col1\" >National Science Foundation (NSF)</td>\n                        <td id=\"T_bc61835c_6091_11eb_a6a8_a683e7df5c7frow1_col2\" class=\"data row1 col2\" >University Of Michigan</td>\n                        <td id=\"T_bc61835c_6091_11eb_a6a8_a683e7df5c7frow1_col3\" class=\"data row1 col3\" >1</td>\n                        <td id=\"T_bc61835c_6091_11eb_a6a8_a683e7df5c7frow1_col4\" class=\"data row1 col4\" >3</td>\n                        <td id=\"T_bc61835c_6091_11eb_a6a8_a683e7df5c7frow1_col5\" class=\"data row1 col5\" >5</td>\n                        <td id=\"T_bc61835c_6091_11eb_a6a8_a683e7df5c7frow1_col6\" class=\"data row1 col6\" >https://doi.org/10.48321/d1h59r</td>\n            </tr>\n            <tr>\n                        <th id=\"T_bc61835c_6091_11eb_a6a8_a683e7df5c7flevel0_row2\" class=\"row_heading level0 row2\" >2</th>\n                        <td id=\"T_bc61835c_6091_11eb_a6a8_a683e7df5c7frow2_col0\" class=\"data row2 col0\" >Late Season Productivity, Carbon, and Nutrient Dynamics in a Changing Arctic</td>\n                        <td id=\"T_bc61835c_6091_11eb_a6a8_a683e7df5c7frow2_col1\" class=\"data row2 col1\" >National Science Foundation (NSF)</td>\n                        <td id=\"T_bc61835c_6091_11eb_a6a8_a683e7df5c7frow2_col2\" class=\"data row2 col2\" >Oregon State University</td>\n                        <td id=\"T_bc61835c_6091_11eb_a6a8_a683e7df5c7frow2_col3\" class=\"data row2 col3\" >0</td>\n                        <td id=\"T_bc61835c_6091_11eb_a6a8_a683e7df5c7frow2_col4\" class=\"data row2 col4\" >0</td>\n                        <td id=\"T_bc61835c_6091_11eb_a6a8_a683e7df5c7frow2_col5\" class=\"data row2 col5\" >5</td>\n                        <td id=\"T_bc61835c_6091_11eb_a6a8_a683e7df5c7frow2_col6\" class=\"data row2 col6\" >https://doi.org/10.48321/d17p4j</td>\n            </tr>\n            <tr>\n                        <th id=\"T_bc61835c_6091_11eb_a6a8_a683e7df5c7flevel0_row3\" class=\"row_heading level0 row3\" >3</th>\n                        <td id=\"T_bc61835c_6091_11eb_a6a8_a683e7df5c7frow3_col0\" class=\"data row3 col0\" >REU Site: A Multidisciplinary Research Experience in Engineered Bioactive Interfaces and Devices</td>\n                        <td id=\"T_bc61835c_6091_11eb_a6a8_a683e7df5c7frow3_col1\" class=\"data row3 col1\" >National Science Foundation (NSF)</td>\n                        <td id=\"T_bc61835c_6091_11eb_a6a8_a683e7df5c7frow3_col2\" class=\"data row3 col2\" >University Of Kentucky</td>\n                        <td id=\"T_bc61835c_6091_11eb_a6a8_a683e7df5c7frow3_col3\" class=\"data row3 col3\" >0</td>\n                        <td id=\"T_bc61835c_6091_11eb_a6a8_a683e7df5c7frow3_col4\" class=\"data row3 col4\" >0</td>\n                        <td id=\"T_bc61835c_6091_11eb_a6a8_a683e7df5c7frow3_col5\" class=\"data row3 col5\" >4</td>\n                        <td id=\"T_bc61835c_6091_11eb_a6a8_a683e7df5c7frow3_col6\" class=\"data row3 col6\" >https://doi.org/10.48321/d1cc7t</td>\n            </tr>\n            <tr>\n                        <th id=\"T_bc61835c_6091_11eb_a6a8_a683e7df5c7flevel0_row4\" class=\"row_heading level0 row4\" >4</th>\n                        <td id=\"T_bc61835c_6091_11eb_a6a8_a683e7df5c7frow4_col0\" class=\"data row4 col0\" >Brown carbon characterization</td>\n                        <td id=\"T_bc61835c_6091_11eb_a6a8_a683e7df5c7frow4_col1\" class=\"data row4 col1\" >National Science Foundation (NSF)</td>\n                        <td id=\"T_bc61835c_6091_11eb_a6a8_a683e7df5c7frow4_col2\" class=\"data row4 col2\" >College, Harvey Mudd</td>\n                        <td id=\"T_bc61835c_6091_11eb_a6a8_a683e7df5c7frow4_col3\" class=\"data row4 col3\" >0</td>\n                        <td id=\"T_bc61835c_6091_11eb_a6a8_a683e7df5c7frow4_col4\" class=\"data row4 col4\" >2</td>\n                        <td id=\"T_bc61835c_6091_11eb_a6a8_a683e7df5c7frow4_col5\" class=\"data row4 col5\" >3</td>\n                        <td id=\"T_bc61835c_6091_11eb_a6a8_a683e7df5c7frow4_col6\" class=\"data row4 col6\" >https://doi.org/10.48321/d13w2m</td>\n            </tr>\n            <tr>\n                        <th id=\"T_bc61835c_6091_11eb_a6a8_a683e7df5c7flevel0_row5\" class=\"row_heading level0 row5\" >5</th>\n                        <td id=\"T_bc61835c_6091_11eb_a6a8_a683e7df5c7frow5_col0\" class=\"data row5 col0\" >A Political Ecology of Value: A Cohort-Based Ethnography of the Environmental Turn in Nicaraguan Urban Social Policy</td>\n                        <td id=\"T_bc61835c_6091_11eb_a6a8_a683e7df5c7frow5_col1\" class=\"data row5 col1\" >National Science Foundation (NSF)</td>\n                        <td id=\"T_bc61835c_6091_11eb_a6a8_a683e7df5c7frow5_col2\" class=\"data row5 col2\" >Western Washington University</td>\n                        <td id=\"T_bc61835c_6091_11eb_a6a8_a683e7df5c7frow5_col3\" class=\"data row5 col3\" >0</td>\n                        <td id=\"T_bc61835c_6091_11eb_a6a8_a683e7df5c7frow5_col4\" class=\"data row5 col4\" >2</td>\n                        <td id=\"T_bc61835c_6091_11eb_a6a8_a683e7df5c7frow5_col5\" class=\"data row5 col5\" >3</td>\n                        <td id=\"T_bc61835c_6091_11eb_a6a8_a683e7df5c7frow5_col6\" class=\"data row5 col6\" >https://doi.org/10.48321/d10593</td>\n            </tr>\n            <tr>\n                        <th id=\"T_bc61835c_6091_11eb_a6a8_a683e7df5c7flevel0_row6\" class=\"row_heading level0 row6\" >6</th>\n                        <td id=\"T_bc61835c_6091_11eb_a6a8_a683e7df5c7frow6_col0\" class=\"data row6 col0\" >Finding Levers for Privacy and Security by Design in Mobile Development</td>\n                        <td id=\"T_bc61835c_6091_11eb_a6a8_a683e7df5c7frow6_col1\" class=\"data row6 col1\" >National Science Foundation (NSF)</td>\n                        <td id=\"T_bc61835c_6091_11eb_a6a8_a683e7df5c7frow6_col2\" class=\"data row6 col2\" >University Of Maryland, College Park</td>\n                        <td id=\"T_bc61835c_6091_11eb_a6a8_a683e7df5c7frow6_col3\" class=\"data row6 col3\" >0</td>\n                        <td id=\"T_bc61835c_6091_11eb_a6a8_a683e7df5c7frow6_col4\" class=\"data row6 col4\" >6</td>\n                        <td id=\"T_bc61835c_6091_11eb_a6a8_a683e7df5c7frow6_col5\" class=\"data row6 col5\" >4</td>\n                        <td id=\"T_bc61835c_6091_11eb_a6a8_a683e7df5c7frow6_col6\" class=\"data row6 col6\" >https://doi.org/10.48321/d1vc75</td>\n            </tr>\n            <tr>\n                        <th id=\"T_bc61835c_6091_11eb_a6a8_a683e7df5c7flevel0_row7\" class=\"row_heading level0 row7\" >7</th>\n                        <td id=\"T_bc61835c_6091_11eb_a6a8_a683e7df5c7frow7_col0\" class=\"data row7 col0\" >Use of telemetry and the Acoustic Wave Glider to study southern flounder migrations</td>\n                        <td id=\"T_bc61835c_6091_11eb_a6a8_a683e7df5c7frow7_col1\" class=\"data row7 col1\" >National Science Foundation (NSF)</td>\n                        <td id=\"T_bc61835c_6091_11eb_a6a8_a683e7df5c7frow7_col2\" class=\"data row7 col2\" >East Carolina University</td>\n                        <td id=\"T_bc61835c_6091_11eb_a6a8_a683e7df5c7frow7_col3\" class=\"data row7 col3\" >0</td>\n                        <td id=\"T_bc61835c_6091_11eb_a6a8_a683e7df5c7frow7_col4\" class=\"data row7 col4\" >0</td>\n                        <td id=\"T_bc61835c_6091_11eb_a6a8_a683e7df5c7frow7_col5\" class=\"data row7 col5\" >6</td>\n                        <td id=\"T_bc61835c_6091_11eb_a6a8_a683e7df5c7frow7_col6\" class=\"data row7 col6\" >https://doi.org/10.48321/d1kw2z</td>\n            </tr>\n            <tr>\n                        <th id=\"T_bc61835c_6091_11eb_a6a8_a683e7df5c7flevel0_row8\" class=\"row_heading level0 row8\" >8</th>\n                        <td id=\"T_bc61835c_6091_11eb_a6a8_a683e7df5c7frow8_col0\" class=\"data row8 col0\" >The Virgin Islands Partnership to Increase Participation and Engagement through Linked, Informal, Nurturing Experiences in STEM (V.I. PIPELINES)</td>\n                        <td id=\"T_bc61835c_6091_11eb_a6a8_a683e7df5c7frow8_col1\" class=\"data row8 col1\" >National Science Foundation (NSF)</td>\n                        <td id=\"T_bc61835c_6091_11eb_a6a8_a683e7df5c7frow8_col2\" class=\"data row8 col2\" >University Of The Virgin Islands</td>\n                        <td id=\"T_bc61835c_6091_11eb_a6a8_a683e7df5c7frow8_col3\" class=\"data row8 col3\" >0</td>\n                        <td id=\"T_bc61835c_6091_11eb_a6a8_a683e7df5c7frow8_col4\" class=\"data row8 col4\" >0</td>\n                        <td id=\"T_bc61835c_6091_11eb_a6a8_a683e7df5c7frow8_col5\" class=\"data row8 col5\" >7</td>\n                        <td id=\"T_bc61835c_6091_11eb_a6a8_a683e7df5c7frow8_col6\" class=\"data row8 col6\" >https://doi.org/10.48321/d1qp4w</td>\n            </tr>\n            <tr>\n                        <th id=\"T_bc61835c_6091_11eb_a6a8_a683e7df5c7flevel0_row9\" class=\"row_heading level0 row9\" >9</th>\n                        <td id=\"T_bc61835c_6091_11eb_a6a8_a683e7df5c7frow9_col0\" class=\"data row9 col0\" >DMP for The Role of Temperature in Regulating Herbivory and Algal Biomass in Upwelling Systems</td>\n                        <td id=\"T_bc61835c_6091_11eb_a6a8_a683e7df5c7frow9_col1\" class=\"data row9 col1\" >National Science Foundation (NSF)</td>\n                        <td id=\"T_bc61835c_6091_11eb_a6a8_a683e7df5c7frow9_col2\" class=\"data row9 col2\" >University Of North Carolina, Chapel Hill</td>\n                        <td id=\"T_bc61835c_6091_11eb_a6a8_a683e7df5c7frow9_col3\" class=\"data row9 col3\" >0</td>\n                        <td id=\"T_bc61835c_6091_11eb_a6a8_a683e7df5c7frow9_col4\" class=\"data row9 col4\" >13</td>\n                        <td id=\"T_bc61835c_6091_11eb_a6a8_a683e7df5c7frow9_col5\" class=\"data row9 col5\" >3</td>\n                        <td id=\"T_bc61835c_6091_11eb_a6a8_a683e7df5c7frow9_col6\" class=\"data row9 col6\" >https://doi.org/10.48321/d1g59f</td>\n            </tr>\n    </tbody></table>"
     },
     "metadata": {},
     "execution_count": 5
    }
   ],
   "source": [
    "processTable(\"repository\", f.value)"
   ]
  }
 ]
}