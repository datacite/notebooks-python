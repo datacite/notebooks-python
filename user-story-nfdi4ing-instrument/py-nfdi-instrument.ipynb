{
 "cells": [
  {
   "attachments": {},
   "cell_type": "markdown",
   "metadata": {},
   "source": [
    "<img src=\"https://www.nfdi.de/wp-content/uploads/2021/05/logo_nfdi4ing_rgb_quer.png\"  width=\"20%\"/> | [NFDI](https://nfdi4ing.de/)  [User Story Instrument](https://github.com/datacite/freya/issues/63) | As a software author, I want to be able to see the citations of my software aggregated across all versions, so that I see a complete picture of reuse.\n",
    " :------------- | :------------- | :-------------\n",
    "\n",
    "Software development process involves versioned releases. Consequently, different software versions may be used for scientific discovery and thus referenced in publications. In order to quantify impact of a software, its author must be able to capture the reuse of the software across all its versions.<p />\n",
    "This notebook uses the [DataCite GraphQL API](https://api.datacite.org/graphql) to retrieve metadata about software titled: [Calculation Package: Inverting topography for landscape evolution model process representation](https://doi.org/10.5281/zenodo.2799488), including all its versions, so that its overall reuse can be quantified.\n",
    "\n",
    "**Goal**: By the end of this notebook, for a given instrument id you should be able to display:\n",
    "- Counts of <ins>citations\n",
    "- List of all the datasets created using the instrument\n",
    "- List of all the publications that reference the instrument\n",
    "- List of all the authors that have been involed with the use of the instrument\n",
    "- A List and an bar chart showing how the related works counts have been linked to the instrument"
   ]
  },
  {
   "cell_type": "markdown",
   "metadata": {},
   "source": [
    "## Install libraries and prepare GraphQL client"
   ]
  },
  {
   "cell_type": "code",
   "execution_count": 5,
   "metadata": {},
   "outputs": [],
   "source": [
    "%%capture\n",
    "# Install required Python packages\n",
    "!pip install gql requests altair vega"
   ]
  },
  {
   "cell_type": "code",
   "execution_count": 6,
   "metadata": {},
   "outputs": [],
   "source": [
    "import functions as NFDI\n",
    "import altair as alt\n",
    "import vega\n",
    "alt.renderers.enable('default')\n",
    "\n",
    "from __future__ import print_function\n",
    "from ipywidgets import interact, interactive, fixed, interact_manual\n",
    "import ipywidgets as widgets\n",
    "\n",
    "def input(x,y):\n",
    "    if not x.startswith('10.'):\n",
    "        pass\n",
    "    else:\n",
    "        return NFDI.main(x)"
   ]
  },
  {
   "cell_type": "code",
   "execution_count": 7,
   "metadata": {},
   "outputs": [
    {
     "data": {
      "application/vnd.jupyter.widget-view+json": {
       "model_id": "a4ae2646fd1849f4b9d4fe1720ef62d6",
       "version_major": 2,
       "version_minor": 0
      },
      "text/plain": [
       "interactive(children=(Text(value='enter a DOI (eg. 10.5255/ukda-sn-3592-1)', description='x'), Text(value='cit…"
      ]
     },
     "metadata": {},
     "output_type": "display_data"
    }
   ],
   "source": [
    "interact(input, x='enter a DOI (eg. 10.5255/ukda-sn-3592-1)');"
   ]
  },
  {
   "cell_type": "code",
   "execution_count": 8,
   "metadata": {},
   "outputs": [],
   "source": [
    "NFDI.get_events_by_doi_and_relation_type('10.5255/ukda-sn-3592-1', 'cites')\n",
    "data = NFDI.get_events_by_doi_and_relation_type('10.5255/ukda-sn-3592-1', 'cites')\n",
    "specd = NFDI.generate_histogram_spec(data['meta']['occurred'])\n"
   ]
  }
 ],
 "metadata": {
  "kernelspec": {
   "display_name": "Python 3",
   "language": "python",
   "name": "python3"
  },
  "language_info": {
   "codemirror_mode": {
    "name": "ipython",
    "version": 3
   },
   "file_extension": ".py",
   "mimetype": "text/x-python",
   "name": "python",
   "nbconvert_exporter": "python",
   "pygments_lexer": "ipython3",
   "version": "3.8.15"
  },
  "vscode": {
   "interpreter": {
    "hash": "1ee38ef4a5a9feb55287fd749643f13d043cb0a7addaab2a9c224cbe137c0062"
   }
  }
 },
 "nbformat": 4,
 "nbformat_minor": 4
}
