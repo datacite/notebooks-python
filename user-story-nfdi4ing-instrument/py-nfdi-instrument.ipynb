{
 "cells": [
  {
   "attachments": {},
   "cell_type": "markdown",
   "metadata": {},
   "source": [
    "<img src=\"https://www.nfdi.de/wp-content/uploads/2021/05/logo_nfdi4ing_rgb_quer.png\"  width=\"20%\"/> | [NFDI](https://nfdi4ing.de/) User Story Instrument | As a instrument manager, I want to be able to see the citations of my instrument, so that I see a complete picture of reuse.\n",
    " :------------- | :------------- | :-------------\n",
    "\n",
    "\n",
    "**Goal**: By the end of this notebook, for a given instrument id you should be able to display:\n",
    "- Counts of <ins>citations\n",
    "- List of all the datasets created using the instrument\n",
    "- List of all the publications that reference the instrument\n",
    "- List of all the authors that have been involed with the use of the instrument\n",
    "- A List and an bar chart showing how the related works counts have been linked to the instrument"
   ]
  },
  {
   "cell_type": "markdown",
   "metadata": {},
   "source": [
    "## Install libraries and prepare GraphQL client\n",
    "Click the restart and run all button at the top of the page, then click 'Restart and Run All Cells' when prompted. Wait for the following two cells to complete and set up the environment."
   ]
  },
  {
   "cell_type": "code",
   "execution_count": 4,
   "metadata": {},
   "outputs": [],
   "source": [
    "%%capture\n",
    "# Install required Python packages\n",
    "!pip install gql requests>=2.28 altair vega regex altair_saver selenium==4.2.0 vl-convert-python\n",
    "!npm install vega-lite vega-cli canvas"
   ]
  },
  {
   "cell_type": "code",
   "execution_count": 6,
   "metadata": {},
   "outputs": [],
   "source": [
    "from __future__ import print_function\n",
    "from ipywidgets import interact, interactive, fixed, interact_manual\n",
    "import functions as NFDI\n",
    "\n",
    "\n",
    "def input(instrument_id):\n",
    "    if not instrument_id.startswith('10.'):\n",
    "        pass\n",
    "    else:\n",
    "        NFDI.main(instrument_id)"
   ]
  },
  {
   "cell_type": "markdown",
   "metadata": {},
   "source": [
    "## View Instrument data\n",
    "A prompt will be displayed for inputting the instrument ID. Once the ID is entered in the correct format, the data will automatically be fetched and displayed."
   ]
  },
  {
   "cell_type": "code",
   "execution_count": 7,
   "metadata": {},
   "outputs": [
    {
     "data": {
      "application/vnd.jupyter.widget-view+json": {
       "model_id": "861d35c17a80411fae7204b2b284d3c3",
       "version_major": 2,
       "version_minor": 0
      },
      "text/plain": [
       "interactive(children=(Text(value='eg: 10.1002/cssc.201900799', description='instrument_id'), Output()), _dom_c…"
      ]
     },
     "metadata": {},
     "output_type": "display_data"
    },
    {
     "data": {
      "text/plain": [
       "<function __main__.input(instrument_id)>"
      ]
     },
     "execution_count": 7,
     "metadata": {},
     "output_type": "execute_result"
    }
   ],
   "source": [
    "interact(input, instrument_id='eg: 10.1002/cssc.201900799')"
   ]
  }
 ],
 "metadata": {
  "kernelspec": {
   "display_name": "Python 3.10.6 64-bit",
   "language": "python",
   "name": "python3"
  },
  "language_info": {
   "codemirror_mode": {
    "name": "ipython",
    "version": 3
   },
   "file_extension": ".py",
   "mimetype": "text/x-python",
   "name": "python",
   "nbconvert_exporter": "python",
   "pygments_lexer": "ipython3",
   "version": "3.10.6"
  },
  "vscode": {
   "interpreter": {
    "hash": "916dbcbb3f70747c44a77c7bcd40155683ae19c65e1c03b4aa3499c5328201f1"
   }
  }
 },
 "nbformat": 4,
 "nbformat_minor": 4
}
