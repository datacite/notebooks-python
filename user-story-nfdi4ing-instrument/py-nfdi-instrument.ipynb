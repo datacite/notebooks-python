{
 "cells": [
  {
   "attachments": {},
   "cell_type": "markdown",
   "metadata": {},
   "source": [
    "<img src=\"https://www.nfdi.de/wp-content/uploads/2021/05/logo_nfdi4ing_rgb_quer.png\"  width=\"20%\"/> | [NFDI](https://nfdi4ing.de/)  [User Story Instrument](https://github.com/datacite/freya/issues/63) | As a software author, I want to be able to see the citations of my software aggregated across all versions, so that I see a complete picture of reuse.\n",
    " :------------- | :------------- | :-------------\n",
    "\n",
    "Software development process involves versioned releases. Consequently, different software versions may be used for scientific discovery and thus referenced in publications. In order to quantify impact of a software, its author must be able to capture the reuse of the software across all its versions.<p />\n",
    "This notebook uses the [DataCite GraphQL API](https://api.datacite.org/graphql) to retrieve metadata about software titled: [Calculation Package: Inverting topography for landscape evolution model process representation](https://doi.org/10.5281/zenodo.2799488), including all its versions, so that its overall reuse can be quantified.\n",
    "\n",
    "**Goal**: By the end of this notebook, for a given instrument id you should be able to display:\n",
    "- Counts of <ins>citations\n",
    "- List of all the datasets created using the instrument\n",
    "- List of all the publications that reference the instrument\n",
    "- List of all the authors that have been involed with the use of the instrument\n",
    "- A List and an bar chart showing how the related works counts have been linked to the instrument"
   ]
  },
  {
   "cell_type": "markdown",
   "metadata": {},
   "source": [
    "## Install libraries and prepare GraphQL client"
   ]
  },
  {
   "cell_type": "code",
   "execution_count": 1,
   "metadata": {},
   "outputs": [],
   "source": [
    "%%capture\n",
    "# Install required Python packages\n",
    "!pip install gql requests altair vega"
   ]
  },
  {
   "cell_type": "code",
   "execution_count": 2,
   "metadata": {},
   "outputs": [],
   "source": [
    "import functions as NFDI\n",
    "import altair as alt\n",
    "import vega\n",
    "alt.renderers.enable('mimetype')\n",
    "\n",
    "from __future__ import print_function\n",
    "from ipywidgets import interact, interactive, fixed, interact_manual\n",
    "import ipywidgets as widgets\n",
    "\n",
    "def input(x):\n",
    "    if not x.startswith('10.'):\n",
    "        pass\n",
    "    else:\n",
    "        NFDI.main(x)"
   ]
  },
  {
   "cell_type": "code",
   "execution_count": 5,
   "metadata": {},
   "outputs": [
    {
     "data": {
      "application/vnd.jupyter.widget-view+json": {
       "model_id": "785af1d81ec940359563ae032e28ffe2",
       "version_major": 2,
       "version_minor": 0
      },
      "text/plain": [
       "interactive(children=(Text(value='10.5255/ukda-sn-3592-1', description='x'), Output()), _dom_classes=('widget-…"
      ]
     },
     "metadata": {},
     "output_type": "display_data"
    },
    {
     "data": {
      "application/vnd.vegalite.v4+json": {
       "$schema": "https://vega.github.io/schema/vega-lite/v5.json",
       "config": {
        "axis": {
         "grid": false,
         "labelFlush": false,
         "title": null
        },
        "view": {
         "continuousHeight": 300,
         "continuousWidth": 400,
         "stroke": null
        }
       },
       "data": {
        "name": "data-6be4bdaafc2ba1ecc6f2a4c0fc27a672"
       },
       "datasets": {
        "data-6be4bdaafc2ba1ecc6f2a4c0fc27a672": [
         {
          "count": 67,
          "id": "2022",
          "title": "2022"
         },
         {
          "count": 1,
          "id": "2021",
          "title": "2021"
         },
         {
          "count": 2,
          "id": "2019",
          "title": "2019"
         }
        ]
       },
       "encoding": {
        "color": {
         "condition": [
          {
           "selection": "highlight",
           "value": "#34495e"
          }
         ],
         "field": "count",
         "legend": null,
         "scale": {
          "range": [
           "#1abc9c"
          ]
         },
         "type": "nominal"
        },
        "x": {
         "axis": {
          "format": "1",
          "labelExpr": "datum.label % 2 === 0 ? datum.label : \"\""
         },
         "bin": {
          "binned": true,
          "maxbins": 10,
          "step": 1
         },
         "field": "period",
         "scale": {
          "domain": [
           2014,
           2024
          ]
         },
         "type": "quantitative"
        },
        "x2": {
         "field": "bin_end"
        },
        "y": {
         "axis": {
          "format": ",f",
          "tickMinStep": 1
         },
         "field": "count",
         "type": "quantitative"
        }
       },
       "mark": {
        "cursor": "pointer",
        "tooltip": true,
        "type": "bar"
       },
       "padding": {
        "bottom": 5,
        "left": 5,
        "right": 5,
        "top": 5
       },
       "selection": {
        "highlight": {
         "empty": "none",
         "on": "mouseover",
         "type": "single"
        }
       },
       "transform": [
        {
         "as": "period",
         "calculate": "toNumber(datum.title)"
        },
        {
         "as": "bin_end",
         "calculate": "toNumber(datum.title)+1"
        },
        {
         "filter": "toNumber(datum.title) >= 2014"
        }
       ],
       "width": 500
      },
      "text/plain": [
       "<VegaLite 4 object>\n",
       "\n",
       "If you see this message, it means the renderer has not been properly enabled\n",
       "for the frontend that you are using. For more information, see\n",
       "https://altair-viz.github.io/user_guide/troubleshooting.html\n"
      ]
     },
     "metadata": {},
     "output_type": "display_data"
    }
   ],
   "source": [
    "interact(input, x='10.5255/ukda-sn-3592-1');"
   ]
  },
  {
   "cell_type": "code",
   "execution_count": 6,
   "metadata": {},
   "outputs": [],
   "source": [
    "# NFDI.main('10.5255/ukda-sn-3592-1')"
   ]
  },
  {
   "cell_type": "code",
   "execution_count": null,
   "metadata": {},
   "outputs": [],
   "source": []
  }
 ],
 "metadata": {
  "kernelspec": {
   "display_name": "Python 3",
   "language": "python",
   "name": "python3"
  },
  "language_info": {
   "codemirror_mode": {
    "name": "ipython",
    "version": 3
   },
   "file_extension": ".py",
   "mimetype": "text/x-python",
   "name": "python",
   "nbconvert_exporter": "python",
   "pygments_lexer": "ipython3",
   "version": "3.8.15"
  },
  "vscode": {
   "interpreter": {
    "hash": "1ee38ef4a5a9feb55287fd749643f13d043cb0a7addaab2a9c224cbe137c0062"
   }
  }
 },
 "nbformat": 4,
 "nbformat_minor": 4
}
