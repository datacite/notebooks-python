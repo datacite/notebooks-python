{
 "cells": [
  {
   "attachments": {},
   "cell_type": "markdown",
   "metadata": {},
   "source": [
    "<img src=\"https://www.nfdi.de/wp-content/uploads/2021/05/logo_nfdi4ing_rgb_quer.png\"  width=\"20%\"/> | [NFDI](https://nfdi4ing.de/)  [User Story Instrument](https://github.com/datacite/freya/issues/63) | As a software author, I want to be able to see the citations of my software aggregated across all versions, so that I see a complete picture of reuse.\n",
    " :------------- | :------------- | :-------------\n",
    "\n",
    "Software development process involves versioned releases. Consequently, different software versions may be used for scientific discovery and thus referenced in publications. In order to quantify impact of a software, its author must be able to capture the reuse of the software across all its versions.<p />\n",
    "This notebook uses the [DataCite GraphQL API](https://api.datacite.org/graphql) to retrieve metadata about software titled: [Calculation Package: Inverting topography for landscape evolution model process representation](https://doi.org/10.5281/zenodo.2799488), including all its versions, so that its overall reuse can be quantified.\n",
    "\n",
    "**Goal**: By the end of this notebook, for a given instrument id you should be able to display:\n",
    "- Counts of <ins>citations\n",
    "- List of all the datasets created using the instrument\n",
    "- List of all the publications that reference the instrument\n",
    "- List of all the authors that have been involed with the use of the instrument\n",
    "- A List and an bar chart showing how the related works counts have been linked to the instrument"
   ]
  },
  {
   "cell_type": "markdown",
   "metadata": {},
   "source": [
    "## Install libraries and prepare GraphQL client"
   ]
  },
  {
   "cell_type": "code",
   "execution_count": 1,
   "metadata": {},
   "outputs": [],
   "source": [
    "%%capture\n",
    "# Install required Python packages\n",
    "!pip install gql requests altair vega"
   ]
  },
  {
   "cell_type": "code",
   "execution_count": 2,
   "metadata": {},
   "outputs": [],
   "source": [
    "import functions as NFDI\n",
    "import altair as alt\n",
    "import vega\n",
    "alt.renderers.enable('mimetype')\n",
    "\n",
    "from __future__ import print_function\n",
    "from ipywidgets import interact, interactive, fixed, interact_manual\n",
    "import ipywidgets as widgets\n",
    "\n",
    "def input(x):\n",
    "    if not x.startswith('10.'):\n",
    "        pass\n",
    "    else:\n",
    "        NFDI.main(x)"
   ]
  },
  {
   "cell_type": "code",
   "execution_count": 3,
   "metadata": {},
   "outputs": [
    {
     "data": {
      "application/vnd.jupyter.widget-view+json": {
       "model_id": "1a6db8dd9232455db0e240332fc97c3d",
       "version_major": 2,
       "version_minor": 0
      },
      "text/plain": [
       "interactive(children=(Text(value='enter a DOI (eg. 10.5255/ukda-sn-3592-1)', description='x'), Output()), _dom…"
      ]
     },
     "metadata": {},
     "output_type": "display_data"
    }
   ],
   "source": [
    "interact(input, x='enter a DOI (eg. 10.5255/ukda-sn-3592-1)');"
   ]
  },
  {
   "cell_type": "code",
   "execution_count": 4,
   "metadata": {},
   "outputs": [
    {
     "data": {
      "text/html": [
       "<head>\n",
       "\t<link href=\"https://cdn.jsdelivr.net/npm/bootstrap@5.3.0-alpha1/dist/css/bootstrap.min.css\" rel=\"stylesheet\"\n",
       "\t\tintegrity=\"sha384-GLhlTQ8iRABdZLl6O3oVMWSktQOp6b7In1Zl3/Jr59b6EGGoI1aFkw7cmDA6j6gD\" crossorigin=\"anonymous\">\n",
       "\n",
       "\t<style>\n",
       "\t\t* {\n",
       "\tfont-size: 16px;\n",
       "\tfont-family: Helvetica, \"sans-serif\";\n",
       "}\n",
       "\n",
       ".metadata {\n",
       "\tmargin-bottom: 50px;\n",
       "\tpadding: 10px;\n",
       "}\n",
       "\n",
       ".citation-count {\n",
       "\twidth: max-content;\n",
       "\tmargin-top: 15px;\n",
       "\tpadding: .5em;\n",
       "\n",
       "\tcolor: white;\n",
       "\tbackground-color: blue;\n",
       "\tborder-radius: 8px;\n",
       "}\n",
       "\n",
       ".citation-count div {\n",
       "\tdisplay: inline-block;\n",
       "\tmargin-left: 3px;\n",
       "\tpadding: 6px;\n",
       "\t\n",
       "\tcolor: black;\n",
       "\tbackground-color: white;\n",
       "\tborder-radius: 4px;\n",
       "}\n",
       "\n",
       ".lists {\n",
       "\tdisplay: flex;\n",
       "\tflex-direction: row;\n",
       "\tjustify-content: space-between;\n",
       "\talign-items: flex-start;\n",
       "}\n",
       "\n",
       "table {\n",
       "\tmargin: 5px;\n",
       "\tborder-collapse: collapse;\n",
       "}\n",
       "\n",
       "tr {\n",
       "\tborder-bottom: 1px solid lightgray;\n",
       "}\n",
       "\n",
       "th {\n",
       "\tdisplay: flex;\n",
       "\tpadding: 10px;\n",
       "\n",
       "\tcolor: black;\n",
       "\tbackground-color: lightgray;\n",
       "\tborder-top-left-radius: 15px;\n",
       "\tborder-top-right-radius: 15px;\n",
       "}\n",
       "\n",
       "td {\n",
       "\tdisplay: flex;\n",
       "\tflex-direction: column;\n",
       "\tjustify-content: center;\n",
       "\tpadding: 10px;\n",
       "}\n",
       "\t</style>\n",
       "</head>\n",
       "\n",
       "\n",
       "<div class=\"container\">\n",
       "\n",
       "\t<!-- Metadata -->\n",
       "\t<div class=\"container metadata\">\n",
       "\t\t<div class=\"row\">\n",
       "\t\t\t<div class=\"col\">\n",
       "\t\t\t\t<p>Social And Community Planning Research, Department For Work And Pensions, Department Of Social Security, &amp; Office For National Statistics, S. S. D. (2005). <i>Family Resources Survey, 1994-1995</i> (2nd Edition). UK Data Service. <a href='https://doi.org/10.5255/UKDA-SN-3592-1'>https://doi.org/10.5255/UKDA-SN-3592-1</a></p>\n",
       "\t\t\t\t<p>Published by <a href=\"https://commons.datacite.org/repositories/mzr3c9\">UK Data Archive</a></p>\n",
       "\n",
       "\t\t\t\t<button type=\"button\" class=\"btn btn-primary\">\n",
       "\t\t\t\t\tCitations: <span class=\"badge text-bg-secondary\">1</span>\n",
       "\t\t\t\t</button>\n",
       "\t\t\t</div>\n",
       "\t\t</div>\n",
       "\t</div>\n",
       "\n",
       "\t<!-- Tables -->\n",
       "\t<div class=\"lists\">\n",
       "\t\t<div class=\"container text-center\">\n",
       "\t\t\t<div class=\"row\">\n",
       "\t\t\t\t<div class=\"col\">\n",
       "\t\t\t\t\t<table>\n",
       "        <tr><th><h3>Datasets</h3></tr></th>\n",
       "        <tr><td>H E M Cool, &amp; Bell, M. (2011). <i>Excavations at St Peter's Church, Barton-upon-Humber</i> (Version 1) [Data set]. Archaeology Data Service. <a href='https://doi.org/10.5284/1000389'>https://doi.org/10.5284/1000389</a></td></tr><tr><td>Museum Of London Archaeology. (2011). <i>Identification and quantification of archaeological projects arising from aggregates extraction in Greater London</i> (Version 1) [Data set]. Archaeology Data Service. <a href='https://doi.org/10.5284/1000140'>https://doi.org/10.5284/1000140</a></td></tr><tr><td>Museum Of London Archaeology. (2011). <i>Home Farm, Harmondsworth Lane, Sipson, London borough of Hillingdon</i> (Version 1) [Data set]. Archaeology Data Service. <a href='https://doi.org/10.5284/1000146'>https://doi.org/10.5284/1000146</a></td></tr><tr><td>SeaZone Solutions Limited. (2011). <i>England's Historic Seascapes: Demonstrating the Method</i> (Version 1) [Data set]. Archaeology Data Service. <a href='https://doi.org/10.5284/1000144'>https://doi.org/10.5284/1000144</a></td></tr><tr><td>Whyte, C. (2011). <i>A Database of Upper Palaeolithic Sites based on Wymer and Bonsall, 1977</i> (Version 1) [Data set]. Archaeology Data Service. <a href='https://doi.org/10.5284/1000181'>https://doi.org/10.5284/1000181</a></td></tr><tr><td>Oxford Archaeology (North). (2011). <i>The Augustinian Priory of St Mary, Norton Priory, Runcorn, Cheshire</i> [Data set]. Archaeology Data Service. <a href='https://doi.org/10.5284/1000134'>https://doi.org/10.5284/1000134</a></td></tr><tr><td>Fontana, A., Fabiani, E., Baldi, G., Schober, H., &amp; Stride, J. (2004). <i>Coherent excitations in phosphate glasses</i>. Institut Laue-Langevin. <a href='https://doi.org/10.5291/ILL-DATA.6-05-579'>https://doi.org/10.5291/ILL-DATA.6-05-579</a></td></tr><tr><td>Zhang, X. (2011). <i>Electrochemical and Photochemical Functionalization of Au and Si Surfaces by Grafting of Diazonium and Azide Compounds</i>. Helmholtz-Zentrum Berlin für Materialien und Energy. <a href='https://doi.org/10.5442/D0001'>https://doi.org/10.5442/D0001</a></td></tr><tr><td>Kochanski, G. (2011). <i>2008 Tick1 Audio Corpus</i> [Data set]. University of Oxford. <a href='https://doi.org/10.5287/BODLEIANH8X3.2'>https://doi.org/10.5287/BODLEIANH8X3.2</a></td></tr><tr><td>Science And Technology Facilities Council (STFC), Chilbolton Facility For Atmospheric And Radio Research, [Callaghan, S. A., J. Waight, C. J. Walden, J. Agnew And S. Ventouras]. . (2009). <i>GBS 20.7GHz slant path radio propagation measurements, Sparsholt site</i> (Version 1.0) [Data set]. NERC British Atmospheric Data Centre. <a href='https://doi.org/10.5285/E8F43A51-0198-4323-A926-FE69225D57DD'>https://doi.org/10.5285/E8F43A51-0198-4323-A926-FE69225D57DD</a></td></tr><tr><td>Brown, M. (2011). <i>Mostyn Brown Thesis 2009</i>. Bodleian Libraries, University of Oxford. <a href='https://doi.org/10.5287/BODLEIANFDK5.3'>https://doi.org/10.5287/BODLEIANFDK5.3</a></td></tr><tr><td>Friedrich, F. (2010). <i>Struktur und Gitterdynamik von Gruppe-V-Elementen in ZnO</i>. Helmholtz-Zentrum Berlin für Materialien und Energy. <a href='https://doi.org/10.5442/D0002'>https://doi.org/10.5442/D0002</a></td></tr><tr><td>Döscher, H. (2010). <i>Benchmarking surface signals when growing GaP on Si in CVD ambients</i>. Helmholtz-Zentrum Berlin für Materialien und Energy. <a href='https://doi.org/10.5442/D0003'>https://doi.org/10.5442/D0003</a></td></tr><tr><td>Haas, S. (2010). <i>Nanochemische Zusammensetzungsanalyse mittels anomaler Röntgenkleinwinkelstreuung (ASAXS): Erbium und Ytterbium dotierte Oxyfluorid-Glaskeramiken</i>. Helmholtz-Zentrum Berlin für Materialien und Energy. <a href='https://doi.org/10.5442/D0004'>https://doi.org/10.5442/D0004</a></td></tr><tr><td>Gorka, B. (2010). <i>Hydrogen Passivation of Polycrystalline Si Thin Film Solar Cells</i>. Helmholtz-Zentrum Berlin für Materialien und Energy. <a href='https://doi.org/10.5442/D0005'>https://doi.org/10.5442/D0005</a></td></tr><tr><td>Johnson, B. E. (2010). <i>The Role of Cd and Ga in the Cu(In,Ga)S2/CdS Heterojunction Studied with X-Ray Spectroscopic Methods</i>. Helmholtz-Zentrum Berlin für Materialien und Energy. <a href='https://doi.org/10.5442/D0006'>https://doi.org/10.5442/D0006</a></td></tr><tr><td><a href='https://doi.org/10.5259/20090217092500/HTTP://CENTRICABK.IR-GROUP.COM.AKADNS.NET/'>https://doi.org/10.5259/20090217092500/HTTP://CENTRICABK.IR-GROUP.COM.AKADNS.NET/</a></td></tr><tr><td>ANDS. (2019). <i>DataCite XML 2.1 Example</i> (Version 1.0). ANDS. <a href='https://doi.org/10.4225/ANDSTEST'>https://doi.org/10.4225/ANDSTEST</a></td></tr><tr><td>Hirst, S., &amp; Clark, D. (2010). <i>The Mucking Anglo-Saxon cemeteries</i> [Data set]. Archaeology Data Service. <a href='https://doi.org/10.5284/1000141'>https://doi.org/10.5284/1000141</a></td></tr><tr><td>Northumberland County Council. (2011). <i>Extensive Urban Survey - Northumberland</i> (Version 1) [Data set]. Archaeology Data Service. <a href='https://doi.org/10.5284/1000177'>https://doi.org/10.5284/1000177</a></td></tr><tr><td>Boye Jensen, M. R., Mølhave, K., &amp; Wierzbicki, R. (2010). <i>3D Nanoscale imaging with FIB-SEM</i>. <a href='https://doi.org/10.4122/1.1000000001'>https://doi.org/10.4122/1.1000000001</a></td></tr><tr><td>Boye Jensen, M. R., Mølhave, K., &amp; Wierzbicki, R. (2010). <i>3D Nanoscale imaging with FIB-SEM</i>. <a href='https://doi.org/10.4122/1.1000000002'>https://doi.org/10.4122/1.1000000002</a></td></tr><tr><td>Mielby, J., Riisager, A., &amp; Kegnæs, S. (2010). <i>A golden future for oxidation reactions in the chemical industry</i>. <a href='https://doi.org/10.4122/1.1000000003'>https://doi.org/10.4122/1.1000000003</a></td></tr><tr><td>Mielby, J., Riisager, A., &amp; Kegnæs, S. (2010). <i>A golden future for oxidation reactions in the chemical industry</i>. <a href='https://doi.org/10.4122/1.1000000004'>https://doi.org/10.4122/1.1000000004</a></td></tr><tr><td>Norn, C., &amp; Börjesson, J. (2010). <i>A Novel Process to Highly Improve the Bioethanol Production</i>. <a href='https://doi.org/10.4122/1.1000000005'>https://doi.org/10.4122/1.1000000005</a></td></tr>\n",
       "    </table>\n",
       "\t\t\t\t</div>\n",
       "\t\t\t\t<div class=\"col\">\n",
       "\t\t\t\t\t<table>\n",
       "        <tr><th><h3>Publications</h3></tr></th>\n",
       "        <tr><td>Social And Community Planning Research, Department For Work And Pensions, Department Of Social Security, &amp; Office For National Statistics, S. S. D. (2005). <i>Family Resources Survey, 1994-1995</i> (2nd Edition). UK Data Service. <a href='https://doi.org/10.5255/UKDA-SN-3592-1'>https://doi.org/10.5255/UKDA-SN-3592-1</a></td></tr>\n",
       "    </table>\n",
       "\t\t\t\t</div>\n",
       "\t\t\t\t<div class=\"col\">\n",
       "\t\t\t\t\t<table>\n",
       "        <tr><th><h3>Related Works</h3></tr></th>\n",
       "        <tr><td>Censuses, O. O. P., &amp; Department Of Health And Social Security. (1983). <i>Family Resources Survey, 1979</i> (1st Edition) [Data set]. UK Data Service. <a href='https://doi.org/10.5255/UKDA-SN-1930-1'>https://doi.org/10.5255/UKDA-SN-1930-1</a></td></tr><tr><td>Social And Community Planning Research, Office Of Population Censuses And Surveys, &amp; Department Of Social Security. (1996). <i>Family Resources Survey, 1993-1994</i> (1st Edition). UK Data Service. <a href='https://doi.org/10.5255/UKDA-SN-3332-1'>https://doi.org/10.5255/UKDA-SN-3332-1</a></td></tr><tr><td>Social And Community Planning Research, Department For Work And Pensions, Department Of Social Security, &amp; Office For National Statistics, S. S. D. (2005). <i>Family Resources Survey, 1994-1995</i> (2nd Edition). UK Data Service. <a href='https://doi.org/10.5255/UKDA-SN-3592-1'>https://doi.org/10.5255/UKDA-SN-3592-1</a></td></tr><tr><td>Social And Community Planning Research, Department For Work And Pensions, Department Of Social Security, &amp; Office For National Statistics, S. S. D. (2005). <i>Family Resources Survey, 1995-1996</i> (5th Edition). UK Data Service. <a href='https://doi.org/10.5255/UKDA-SN-3761-1'>https://doi.org/10.5255/UKDA-SN-3761-1</a></td></tr><tr><td>Department For Work And Pensions, Office For National Statistics, S. S. D., Department Of Social Security, &amp; National Centre For Social Research. (2005). <i>Family Resources Survey, 1996-1997</i> (5th Edition). UK Data Service. <a href='https://doi.org/10.5255/UKDA-SN-3957-1'>https://doi.org/10.5255/UKDA-SN-3957-1</a></td></tr><tr><td>Office For National Statistics, S. S. D., Department For Work And Pensions, Department Of Social Security, &amp; National Centre For Social Research. (2005). <i>Family Resources Survey, 1997-1998</i> (6th Edition). UK Data Service. <a href='https://doi.org/10.5255/UKDA-SN-4068-1'>https://doi.org/10.5255/UKDA-SN-4068-1</a></td></tr><tr><td>National Centre For Social Research, Department For Work And Pensions, Office For National Statistics, S. S. D., &amp; Department Of Social Security. (2005). <i>Family Resources Survey, 1998-1999</i> (4th Edition). UK Data Service. <a href='https://doi.org/10.5255/UKDA-SN-4149-1'>https://doi.org/10.5255/UKDA-SN-4149-1</a></td></tr><tr><td>Department For Work And Pensions, National Centre For Social Research, Office For National Statistics, S. S. D., &amp; Department Of Social Security. (2005). <i>Family Resources Survey, 1999-2000</i> (4th Edition). UK Data Service. <a href='https://doi.org/10.5255/UKDA-SN-4389-1'>https://doi.org/10.5255/UKDA-SN-4389-1</a></td></tr><tr><td>Office For National Statistics, S. S. D., Department Of Social Security, Department For Work And Pensions, &amp; National Centre For Social Research. (2005). <i>Family Resources Survey, 2000-2001</i> (3rd Edition). UK Data Service. <a href='https://doi.org/10.5255/UKDA-SN-4498-1'>https://doi.org/10.5255/UKDA-SN-4498-1</a></td></tr><tr><td>National Centre For Social Research, Office For National Statistics, S. S. D., &amp; Department For Work And Pensions. (2005). <i>Family Resources Survey, 2001-2002</i> (3rd Edition). UK Data Service. <a href='https://doi.org/10.5255/UKDA-SN-4633-1'>https://doi.org/10.5255/UKDA-SN-4633-1</a></td></tr><tr><td>Department For Work And Pensions, &amp; Government Equalities Office. (2011). <i>Individual Income Series, 1996/97-1998/99 and 2004/05-2007/08</i> (1st Edition) [Data set]. Department for Work and Pensions. <a href='https://doi.org/10.5255/UKDA-SN-6478-1'>https://doi.org/10.5255/UKDA-SN-6478-1</a></td></tr><tr><td>Office For National Statistics, S., Department For Work And Pensions, &amp; National Centre For Social Research. (2019). <i>Family Resources Survey, 2010-2011</i> (2nd Edition). UK Data Service. <a href='https://doi.org/10.5255/UKDA-SN-7085-2'>https://doi.org/10.5255/UKDA-SN-7085-2</a></td></tr><tr><td>Department For Work And Pensions, Office For National Statistics, S., &amp; National Centre For Social Research. (2019). <i>Family Resources Survey, 2009-2010</i> (3rd Edition). UK Data Service. <a href='https://doi.org/10.5255/UKDA-SN-6886-3'>https://doi.org/10.5255/UKDA-SN-6886-3</a></td></tr><tr><td>Department For Work And Pensions, Office For National Statistics, S., &amp; National Centre For Social Research. (2019). <i>Family Resources Survey, 2008-2009</i> (3rd Edition). UK Data Service. <a href='https://doi.org/10.5255/UKDA-SN-6523-3'>https://doi.org/10.5255/UKDA-SN-6523-3</a></td></tr><tr><td>Department For Work And Pensions, Office For National Statistics, S., &amp; National Centre For Social Research. (2014). <i>Family Resources Survey, 2007-2008</i> (2nd Edition). UK Data Service. <a href='https://doi.org/10.5255/UKDA-SN-6252-2'>https://doi.org/10.5255/UKDA-SN-6252-2</a></td></tr><tr><td>Department For Work And Pensions, Office For National Statistics, S., &amp; National Centre For Social Research. (2014). <i>Family Resources Survey, 2006-2007</i> (3rd Edition). UK Data Service. <a href='https://doi.org/10.5255/UKDA-SN-6079-2'>https://doi.org/10.5255/UKDA-SN-6079-2</a></td></tr><tr><td>National Centre For Social Research, Office For National Statistics, S., &amp; Department For Work And Pensions. (2014). <i>Family Resources Survey, 2005-2006</i> (2nd Edition). UK Data Service. <a href='https://doi.org/10.5255/UKDA-SN-5742-2'>https://doi.org/10.5255/UKDA-SN-5742-2</a></td></tr><tr><td>Department For Work And Pensions, National Centre For Social Research, &amp; Office For National Statistics, S. (2014). <i>Family Resources Survey, 2004-2005</i> (3rd Edition). UK Data Service. <a href='https://doi.org/10.5255/UKDA-SN-5291-2'>https://doi.org/10.5255/UKDA-SN-5291-2</a></td></tr><tr><td>Department For Work And Pensions, National Centre For Social Research, &amp; Office For National Statistics, S. (2014). <i>Family Resources Survey, 2003-2004</i> (5th Edition). UK Data Service. <a href='https://doi.org/10.5255/UKDA-SN-5139-2'>https://doi.org/10.5255/UKDA-SN-5139-2</a></td></tr><tr><td>National Centre For Social Research, Department For Work And Pensions, &amp; Office For National Statistics, S. (2014). <i>Family Resources Survey, 2002-2003</i> (5th Edition). UK Data Service. <a href='https://doi.org/10.5255/UKDA-SN-4803-2'>https://doi.org/10.5255/UKDA-SN-4803-2</a></td></tr><tr><td>Office For National Statistics, S., NatCen Social Research, &amp; Department For Work And Pensions. (2021). <i>Family Resources Survey, 2005/06-2019/20, Households Below Average Income, 1994/95-2019/20 and Pensioners' Income, 2007/08-2019/20: Safe Room Access</i> (11th Edition) [Data set]. UK Data Service. <a href='https://doi.org/10.5255/UKDA-SN-7196-12'>https://doi.org/10.5255/UKDA-SN-7196-12</a></td></tr><tr><td>Department For Work And Pensions. (2022). <i>Households Below Average Income, 1994/95-2020/21</i> (16th Edition) [Data set]. UK Data Service. <a href='https://doi.org/10.5255/UKDA-SN-5828-14'>https://doi.org/10.5255/UKDA-SN-5828-14</a></td></tr>\n",
       "    </table>\n",
       "\t\t\t\t</div>\n",
       "\t\t\t\t<div class=\"col\">\n",
       "\t\t\t\t\t<table>\n",
       "        <tr><th><h3>Authors</h3></tr></th>\n",
       "        \n",
       "    </table>\n",
       "\t\t\t\t</div>\n",
       "\t\t\t</div>\n",
       "\t\t</div>\n",
       "\t</div>\n",
       "</div>\n",
       "\n",
       "\n",
       "\n",
       "<footer>\n",
       "\t<script src=\"https://cdn.jsdelivr.net/npm/bootstrap@5.3.0-alpha1/dist/js/bootstrap.bundle.min.js\"\n",
       "\t\tintegrity=\"sha384-w76AqPfDkMBDXo30jS1Sgez6pr3x5MlQ1ZAGC+nuZB+EYdgRZgiwxhTBTkF7CXvN\"\n",
       "\t\tcrossorigin=\"anonymous\"></script>\n",
       "</footer>"
      ],
      "text/plain": [
       "<IPython.core.display.HTML object>"
      ]
     },
     "metadata": {},
     "output_type": "display_data"
    },
    {
     "data": {
      "application/vnd.vegalite.v4+json": {
       "$schema": "https://vega.github.io/schema/vega-lite/v4.json",
       "config": {
        "axis": {
         "grid": false,
         "labelFlush": false,
         "title": null
        },
        "view": {
         "continuousHeight": 300,
         "continuousWidth": 400,
         "stroke": null
        }
       },
       "data": {
        "name": "data-6be4bdaafc2ba1ecc6f2a4c0fc27a672"
       },
       "datasets": {
        "data-6be4bdaafc2ba1ecc6f2a4c0fc27a672": [
         {
          "count": 67,
          "id": "2022",
          "title": "2022"
         },
         {
          "count": 1,
          "id": "2021",
          "title": "2021"
         },
         {
          "count": 2,
          "id": "2019",
          "title": "2019"
         }
        ]
       },
       "encoding": {
        "color": {
         "condition": [
          {
           "selection": "highlight",
           "value": "#34495e"
          }
         ],
         "field": "count",
         "legend": null,
         "scale": {
          "range": [
           "#1abc9c"
          ]
         },
         "type": "nominal"
        },
        "x": {
         "axis": {
          "format": "1",
          "labelExpr": "datum.label % 2 === 0 ? datum.label : \"\""
         },
         "bin": {
          "binned": true,
          "maxbins": 10,
          "step": 1
         },
         "field": "period",
         "scale": {
          "domain": [
           2014,
           2024
          ]
         },
         "type": "quantitative"
        },
        "x2": {
         "field": "bin_end"
        },
        "y": {
         "axis": {
          "format": ",f",
          "tickMinStep": 1
         },
         "field": "count",
         "type": "quantitative"
        }
       },
       "mark": {
        "cursor": "pointer",
        "tooltip": true,
        "type": "bar"
       },
       "padding": {
        "bottom": 5,
        "left": 5,
        "right": 5,
        "top": 5
       },
       "selection": {
        "highlight": {
         "empty": "none",
         "on": "mouseover",
         "type": "single"
        }
       },
       "transform": [
        {
         "as": "period",
         "calculate": "toNumber(datum.title)"
        },
        {
         "as": "bin_end",
         "calculate": "toNumber(datum.title)+1"
        },
        {
         "filter": "toNumber(datum.title) >= 2014"
        }
       ],
       "width": 500
      },
      "text/plain": [
       "<VegaLite 4 object>\n",
       "\n",
       "If you see this message, it means the renderer has not been properly enabled\n",
       "for the frontend that you are using. For more information, see\n",
       "https://altair-viz.github.io/user_guide/troubleshooting.html\n"
      ]
     },
     "execution_count": 4,
     "metadata": {},
     "output_type": "execute_result"
    }
   ],
   "source": [
    "NFDI.main('10.5255/ukda-sn-3592-1')"
   ]
  },
  {
   "cell_type": "code",
   "execution_count": null,
   "metadata": {},
   "outputs": [],
   "source": []
  }
 ],
 "metadata": {
  "kernelspec": {
   "display_name": "Python 3",
   "language": "python",
   "name": "python3"
  },
  "language_info": {
   "codemirror_mode": {
    "name": "ipython",
    "version": 3
   },
   "file_extension": ".py",
   "mimetype": "text/x-python",
   "name": "python",
   "nbconvert_exporter": "python",
   "pygments_lexer": "ipython3",
   "version": "3.8.15"
  },
  "vscode": {
   "interpreter": {
    "hash": "1ee38ef4a5a9feb55287fd749643f13d043cb0a7addaab2a9c224cbe137c0062"
   }
  }
 },
 "nbformat": 4,
 "nbformat_minor": 4
}
