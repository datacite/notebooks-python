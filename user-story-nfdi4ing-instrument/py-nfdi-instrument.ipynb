{
 "cells": [
  {
   "attachments": {},
   "cell_type": "markdown",
   "metadata": {},
   "source": [
    "<img src=\"https://www.nfdi.de/wp-content/uploads/2021/05/logo_nfdi4ing_rgb_quer.png\"  width=\"20%\"/> | [NFDI](https://nfdi4ing.de/)  [User Story Instrument](https://github.com/datacite/freya/issues/63) | As a instrument manager, I want to be able to see the citations of my instrument, so that I see a complete picture of reuse.\n",
    " :------------- | :------------- | :-------------\n",
    "\n",
    "\n",
    "**Goal**: By the end of this notebook, for a given instrument id you should be able to display:\n",
    "- Counts of <ins>citations\n",
    "- List of all the datasets created using the instrument\n",
    "- List of all the publications that reference the instrument\n",
    "- List of all the authors that have been involed with the use of the instrument\n",
    "- A List and an bar chart showing how the related works counts have been linked to the instrument"
   ]
  },
  {
   "cell_type": "markdown",
   "metadata": {},
   "source": [
    "## Install libraries and prepare GraphQL client"
   ]
  },
  {
   "cell_type": "code",
   "execution_count": 1,
   "metadata": {},
   "outputs": [],
   "source": [
    "%%capture\n",
    "# Install required Python packages\n",
    "!pip install gql requests altair vega regex altair_saver selenium==4.2.0 vl-convert-python\n",
    "!npm install vega-lite vega-cli canvas"
   ]
  },
  {
   "cell_type": "code",
   "execution_count": 2,
   "metadata": {},
   "outputs": [],
   "source": [
    "from __future__ import print_function\n",
    "from ipywidgets import interact, interactive, fixed, interact_manual\n",
    "import functions as NFDI\n",
    "\n",
    "\n",
    "def input(instrument_id):\n",
    "    if not instrument_id.startswith('10.'):\n",
    "        pass\n",
    "    else:\n",
    "        NFDI.main(instrument_id)"
   ]
  },
  {
   "cell_type": "code",
   "execution_count": 5,
   "metadata": {},
   "outputs": [
    {
     "data": {
      "application/vnd.jupyter.widget-view+json": {
       "model_id": "324b7bc315244f8a9321a2308e6e74c9",
       "version_major": 2,
       "version_minor": 0
      },
      "text/plain": [
       "interactive(children=(Text(value='10.5281/zenodo.2639919', description='instrument_id'), Output()), _dom_class…"
      ]
     },
     "metadata": {},
     "output_type": "display_data"
    }
   ],
   "source": [
    "interact(input, instrument_id='10.5255/ukda-sn-3592-1');"
   ]
  }
 ],
 "metadata": {
  "kernelspec": {
   "display_name": "Python 3",
   "language": "python",
   "name": "python3"
  },
  "language_info": {
   "codemirror_mode": {
    "name": "ipython",
    "version": 3
   },
   "file_extension": ".py",
   "mimetype": "text/x-python",
   "name": "python",
   "nbconvert_exporter": "python",
   "pygments_lexer": "ipython3",
   "version": "3.8.15"
  },
  "vscode": {
   "interpreter": {
    "hash": "1ee38ef4a5a9feb55287fd749643f13d043cb0a7addaab2a9c224cbe137c0062"
   }
  }
 },
 "nbformat": 4,
 "nbformat_minor": 4
}
