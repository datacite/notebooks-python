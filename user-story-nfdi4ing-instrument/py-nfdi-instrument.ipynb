{
 "cells": [
  {
   "attachments": {},
   "cell_type": "markdown",
   "metadata": {},
   "source": [
    "<img src=\"https://www.nfdi.de/wp-content/uploads/2021/05/logo_nfdi4ing_rgb_quer.png\"  width=\"20%\"/> | [NFDI](https://nfdi4ing.de/)  [User Story Instrument](https://github.com/datacite/freya/issues/63) | As a software author, I want to be able to see the citations of my software aggregated across all versions, so that I see a complete picture of reuse.\n",
    " :------------- | :------------- | :-------------\n",
    "\n",
    "Software development process involves versioned releases. Consequently, different software versions may be used for scientific discovery and thus referenced in publications. In order to quantify impact of a software, its author must be able to capture the reuse of the software across all its versions.<p />\n",
    "This notebook uses the [DataCite GraphQL API](https://api.datacite.org/graphql) to retrieve metadata about software titled: [Calculation Package: Inverting topography for landscape evolution model process representation](https://doi.org/10.5281/zenodo.2799488), including all its versions, so that its overall reuse can be quantified.\n",
    "\n",
    "**Goal**: By the end of this notebook, for a given instrument id you should be able to display:\n",
    "- Counts of <ins>citations\n",
    "- List of all the datasets created using the instrument\n",
    "- List of all the publications that reference the instrument\n",
    "- List of all the authors that have been involed with the use of the instrument\n",
    "- A List and an bar chart showing how the related works counts have been linked to the instrument"
   ]
  },
  {
   "cell_type": "markdown",
   "metadata": {},
   "source": [
    "## Install libraries and prepare GraphQL client"
   ]
  },
  {
   "cell_type": "code",
   "execution_count": 9,
   "metadata": {},
   "outputs": [],
   "source": [
    "%%capture\n",
    "# Install required Python packages\n",
    "!pip install gql requests altair vega"
   ]
  },
  {
   "cell_type": "code",
   "execution_count": 1,
   "metadata": {},
   "outputs": [],
   "source": [
    "import functions as NFDI\n",
    "import altair as alt\n",
    "import vega\n",
    "alt.renderers.enable('default')\n",
    "\n",
    "from __future__ import print_function\n",
    "from ipywidgets import interact, interactive, fixed, interact_manual\n",
    "import ipywidgets as widgets\n",
    "\n",
    "def input(x):\n",
    "    if not x.startswith('10.'):\n",
    "        pass\n",
    "    else:\n",
    "        NFDI.main(x)"
   ]
  },
  {
   "cell_type": "code",
   "execution_count": 2,
   "metadata": {},
   "outputs": [
    {
     "data": {
      "application/vnd.jupyter.widget-view+json": {
       "model_id": "dace38b29cc24512b44c061f9956e14d",
       "version_major": 2,
       "version_minor": 0
      },
      "text/plain": [
       "interactive(children=(Text(value='10.5255/ukda-sn-3592-1', description='x'), Output()), _dom_classes=('widget-…"
      ]
     },
     "metadata": {},
     "output_type": "display_data"
    }
   ],
   "source": [
    "interact(input, x='enter a DOI (eg. 10.5255/ukda-sn-3592-1)');"
   ]
  },
  {
   "cell_type": "code",
   "execution_count": 2,
   "metadata": {},
   "outputs": [
    {
     "data": {
      "text/html": [
       "<div><p>Social And Community Planning Research, Department For Work And Pensions, Department Of Social Security, &amp; Office For National Statistics, S. S. D. (2005). <i>Family Resources Survey, 1994-1995</i> (2nd Edition). UK Data Service. <a href='https://doi.org/10.5255/UKDA-SN-3592-1'>https://doi.org/10.5255/UKDA-SN-3592-1</a></p><p>Citation count: 1</p><a href=\"https://commons.datacite.org/repositories/mzr3c9\">UK Data Archive</a></div>"
      ],
      "text/plain": [
       "<IPython.core.display.HTML object>"
      ]
     },
     "metadata": {},
     "output_type": "display_data"
    },
    {
     "data": {
      "text/html": [
       "<hr><table><tr><td>Censuses, O. O. P., &amp; Department Of Health And Social Security. (1983). <i>Family Resources Survey, 1979</i> (1st Edition) [Data set]. UK Data Service. <a href='https://doi.org/10.5255/UKDA-SN-1930-1'>https://doi.org/10.5255/UKDA-SN-1930-1</a></td></tr><tr><td>Social And Community Planning Research, Office Of Population Censuses And Surveys, &amp; Department Of Social Security. (1996). <i>Family Resources Survey, 1993-1994</i> (1st Edition). UK Data Service. <a href='https://doi.org/10.5255/UKDA-SN-3332-1'>https://doi.org/10.5255/UKDA-SN-3332-1</a></td></tr><tr><td>Social And Community Planning Research, Department For Work And Pensions, Department Of Social Security, &amp; Office For National Statistics, S. S. D. (2005). <i>Family Resources Survey, 1994-1995</i> (2nd Edition). UK Data Service. <a href='https://doi.org/10.5255/UKDA-SN-3592-1'>https://doi.org/10.5255/UKDA-SN-3592-1</a></td></tr><tr><td>Social And Community Planning Research, Department For Work And Pensions, Department Of Social Security, &amp; Office For National Statistics, S. S. D. (2005). <i>Family Resources Survey, 1995-1996</i> (5th Edition). UK Data Service. <a href='https://doi.org/10.5255/UKDA-SN-3761-1'>https://doi.org/10.5255/UKDA-SN-3761-1</a></td></tr><tr><td>Department For Work And Pensions, Office For National Statistics, S. S. D., Department Of Social Security, &amp; National Centre For Social Research. (2005). <i>Family Resources Survey, 1996-1997</i> (5th Edition). UK Data Service. <a href='https://doi.org/10.5255/UKDA-SN-3957-1'>https://doi.org/10.5255/UKDA-SN-3957-1</a></td></tr><tr><td>Office For National Statistics, S. S. D., Department For Work And Pensions, Department Of Social Security, &amp; National Centre For Social Research. (2005). <i>Family Resources Survey, 1997-1998</i> (6th Edition). UK Data Service. <a href='https://doi.org/10.5255/UKDA-SN-4068-1'>https://doi.org/10.5255/UKDA-SN-4068-1</a></td></tr><tr><td>National Centre For Social Research, Department For Work And Pensions, Office For National Statistics, S. S. D., &amp; Department Of Social Security. (2005). <i>Family Resources Survey, 1998-1999</i> (4th Edition). UK Data Service. <a href='https://doi.org/10.5255/UKDA-SN-4149-1'>https://doi.org/10.5255/UKDA-SN-4149-1</a></td></tr><tr><td>Department For Work And Pensions, National Centre For Social Research, Office For National Statistics, S. S. D., &amp; Department Of Social Security. (2005). <i>Family Resources Survey, 1999-2000</i> (4th Edition). UK Data Service. <a href='https://doi.org/10.5255/UKDA-SN-4389-1'>https://doi.org/10.5255/UKDA-SN-4389-1</a></td></tr><tr><td>Office For National Statistics, S. S. D., Department Of Social Security, Department For Work And Pensions, &amp; National Centre For Social Research. (2005). <i>Family Resources Survey, 2000-2001</i> (3rd Edition). UK Data Service. <a href='https://doi.org/10.5255/UKDA-SN-4498-1'>https://doi.org/10.5255/UKDA-SN-4498-1</a></td></tr><tr><td>National Centre For Social Research, Office For National Statistics, S. S. D., &amp; Department For Work And Pensions. (2005). <i>Family Resources Survey, 2001-2002</i> (3rd Edition). UK Data Service. <a href='https://doi.org/10.5255/UKDA-SN-4633-1'>https://doi.org/10.5255/UKDA-SN-4633-1</a></td></tr><tr><td>Department For Work And Pensions, &amp; Government Equalities Office. (2011). <i>Individual Income Series, 1996/97-1998/99 and 2004/05-2007/08</i> (1st Edition) [Data set]. Department for Work and Pensions. <a href='https://doi.org/10.5255/UKDA-SN-6478-1'>https://doi.org/10.5255/UKDA-SN-6478-1</a></td></tr><tr><td>Office For National Statistics, S., Department For Work And Pensions, &amp; National Centre For Social Research. (2019). <i>Family Resources Survey, 2010-2011</i> (2nd Edition). UK Data Service. <a href='https://doi.org/10.5255/UKDA-SN-7085-2'>https://doi.org/10.5255/UKDA-SN-7085-2</a></td></tr><tr><td>Department For Work And Pensions, Office For National Statistics, S., &amp; National Centre For Social Research. (2019). <i>Family Resources Survey, 2009-2010</i> (3rd Edition). UK Data Service. <a href='https://doi.org/10.5255/UKDA-SN-6886-3'>https://doi.org/10.5255/UKDA-SN-6886-3</a></td></tr><tr><td>Department For Work And Pensions, Office For National Statistics, S., &amp; National Centre For Social Research. (2019). <i>Family Resources Survey, 2008-2009</i> (3rd Edition). UK Data Service. <a href='https://doi.org/10.5255/UKDA-SN-6523-3'>https://doi.org/10.5255/UKDA-SN-6523-3</a></td></tr><tr><td>Department For Work And Pensions, Office For National Statistics, S., &amp; National Centre For Social Research. (2014). <i>Family Resources Survey, 2007-2008</i> (2nd Edition). UK Data Service. <a href='https://doi.org/10.5255/UKDA-SN-6252-2'>https://doi.org/10.5255/UKDA-SN-6252-2</a></td></tr><tr><td>Department For Work And Pensions, Office For National Statistics, S., &amp; National Centre For Social Research. (2014). <i>Family Resources Survey, 2006-2007</i> (3rd Edition). UK Data Service. <a href='https://doi.org/10.5255/UKDA-SN-6079-2'>https://doi.org/10.5255/UKDA-SN-6079-2</a></td></tr><tr><td>National Centre For Social Research, Office For National Statistics, S., &amp; Department For Work And Pensions. (2014). <i>Family Resources Survey, 2005-2006</i> (2nd Edition). UK Data Service. <a href='https://doi.org/10.5255/UKDA-SN-5742-2'>https://doi.org/10.5255/UKDA-SN-5742-2</a></td></tr><tr><td>Department For Work And Pensions, National Centre For Social Research, &amp; Office For National Statistics, S. (2014). <i>Family Resources Survey, 2004-2005</i> (3rd Edition). UK Data Service. <a href='https://doi.org/10.5255/UKDA-SN-5291-2'>https://doi.org/10.5255/UKDA-SN-5291-2</a></td></tr><tr><td>Department For Work And Pensions, National Centre For Social Research, &amp; Office For National Statistics, S. (2014). <i>Family Resources Survey, 2003-2004</i> (5th Edition). UK Data Service. <a href='https://doi.org/10.5255/UKDA-SN-5139-2'>https://doi.org/10.5255/UKDA-SN-5139-2</a></td></tr><tr><td>National Centre For Social Research, Department For Work And Pensions, &amp; Office For National Statistics, S. (2014). <i>Family Resources Survey, 2002-2003</i> (5th Edition). UK Data Service. <a href='https://doi.org/10.5255/UKDA-SN-4803-2'>https://doi.org/10.5255/UKDA-SN-4803-2</a></td></tr><tr><td>Office For National Statistics, S., NatCen Social Research, &amp; Department For Work And Pensions. (2021). <i>Family Resources Survey, 2005/06-2019/20, Households Below Average Income, 1994/95-2019/20 and Pensioners' Income, 2007/08-2019/20: Safe Room Access</i> (11th Edition) [Data set]. UK Data Service. <a href='https://doi.org/10.5255/UKDA-SN-7196-12'>https://doi.org/10.5255/UKDA-SN-7196-12</a></td></tr><tr><td>Department For Work And Pensions. (2022). <i>Households Below Average Income, 1994/95-2020/21</i> (16th Edition) [Data set]. UK Data Service. <a href='https://doi.org/10.5255/UKDA-SN-5828-14'>https://doi.org/10.5255/UKDA-SN-5828-14</a></td></tr></table>"
      ],
      "text/plain": [
       "<IPython.core.display.HTML object>"
      ]
     },
     "metadata": {},
     "output_type": "display_data"
    },
    {
     "data": {
      "text/html": [
       "<hr><table><tr><td>Censuses, O. O. P., &amp; Department Of Health And Social Security. (1983). <i>Family Resources Survey, 1979</i> (1st Edition) [Data set]. UK Data Service. <a href='https://doi.org/10.5255/UKDA-SN-1930-1'>https://doi.org/10.5255/UKDA-SN-1930-1</a></td></tr><tr><td>Social And Community Planning Research, Office Of Population Censuses And Surveys, &amp; Department Of Social Security. (1996). <i>Family Resources Survey, 1993-1994</i> (1st Edition). UK Data Service. <a href='https://doi.org/10.5255/UKDA-SN-3332-1'>https://doi.org/10.5255/UKDA-SN-3332-1</a></td></tr><tr><td>Social And Community Planning Research, Department For Work And Pensions, Department Of Social Security, &amp; Office For National Statistics, S. S. D. (2005). <i>Family Resources Survey, 1994-1995</i> (2nd Edition). UK Data Service. <a href='https://doi.org/10.5255/UKDA-SN-3592-1'>https://doi.org/10.5255/UKDA-SN-3592-1</a></td></tr><tr><td>Social And Community Planning Research, Department For Work And Pensions, Department Of Social Security, &amp; Office For National Statistics, S. S. D. (2005). <i>Family Resources Survey, 1995-1996</i> (5th Edition). UK Data Service. <a href='https://doi.org/10.5255/UKDA-SN-3761-1'>https://doi.org/10.5255/UKDA-SN-3761-1</a></td></tr><tr><td>Department For Work And Pensions, Office For National Statistics, S. S. D., Department Of Social Security, &amp; National Centre For Social Research. (2005). <i>Family Resources Survey, 1996-1997</i> (5th Edition). UK Data Service. <a href='https://doi.org/10.5255/UKDA-SN-3957-1'>https://doi.org/10.5255/UKDA-SN-3957-1</a></td></tr><tr><td>Office For National Statistics, S. S. D., Department For Work And Pensions, Department Of Social Security, &amp; National Centre For Social Research. (2005). <i>Family Resources Survey, 1997-1998</i> (6th Edition). UK Data Service. <a href='https://doi.org/10.5255/UKDA-SN-4068-1'>https://doi.org/10.5255/UKDA-SN-4068-1</a></td></tr><tr><td>National Centre For Social Research, Department For Work And Pensions, Office For National Statistics, S. S. D., &amp; Department Of Social Security. (2005). <i>Family Resources Survey, 1998-1999</i> (4th Edition). UK Data Service. <a href='https://doi.org/10.5255/UKDA-SN-4149-1'>https://doi.org/10.5255/UKDA-SN-4149-1</a></td></tr><tr><td>Department For Work And Pensions, National Centre For Social Research, Office For National Statistics, S. S. D., &amp; Department Of Social Security. (2005). <i>Family Resources Survey, 1999-2000</i> (4th Edition). UK Data Service. <a href='https://doi.org/10.5255/UKDA-SN-4389-1'>https://doi.org/10.5255/UKDA-SN-4389-1</a></td></tr><tr><td>Office For National Statistics, S. S. D., Department Of Social Security, Department For Work And Pensions, &amp; National Centre For Social Research. (2005). <i>Family Resources Survey, 2000-2001</i> (3rd Edition). UK Data Service. <a href='https://doi.org/10.5255/UKDA-SN-4498-1'>https://doi.org/10.5255/UKDA-SN-4498-1</a></td></tr><tr><td>National Centre For Social Research, Office For National Statistics, S. S. D., &amp; Department For Work And Pensions. (2005). <i>Family Resources Survey, 2001-2002</i> (3rd Edition). UK Data Service. <a href='https://doi.org/10.5255/UKDA-SN-4633-1'>https://doi.org/10.5255/UKDA-SN-4633-1</a></td></tr><tr><td>Department For Work And Pensions, &amp; Government Equalities Office. (2011). <i>Individual Income Series, 1996/97-1998/99 and 2004/05-2007/08</i> (1st Edition) [Data set]. Department for Work and Pensions. <a href='https://doi.org/10.5255/UKDA-SN-6478-1'>https://doi.org/10.5255/UKDA-SN-6478-1</a></td></tr><tr><td>Office For National Statistics, S., Department For Work And Pensions, &amp; National Centre For Social Research. (2019). <i>Family Resources Survey, 2010-2011</i> (2nd Edition). UK Data Service. <a href='https://doi.org/10.5255/UKDA-SN-7085-2'>https://doi.org/10.5255/UKDA-SN-7085-2</a></td></tr><tr><td>Department For Work And Pensions, Office For National Statistics, S., &amp; National Centre For Social Research. (2019). <i>Family Resources Survey, 2009-2010</i> (3rd Edition). UK Data Service. <a href='https://doi.org/10.5255/UKDA-SN-6886-3'>https://doi.org/10.5255/UKDA-SN-6886-3</a></td></tr><tr><td>Department For Work And Pensions, Office For National Statistics, S., &amp; National Centre For Social Research. (2019). <i>Family Resources Survey, 2008-2009</i> (3rd Edition). UK Data Service. <a href='https://doi.org/10.5255/UKDA-SN-6523-3'>https://doi.org/10.5255/UKDA-SN-6523-3</a></td></tr><tr><td>Department For Work And Pensions, Office For National Statistics, S., &amp; National Centre For Social Research. (2014). <i>Family Resources Survey, 2007-2008</i> (2nd Edition). UK Data Service. <a href='https://doi.org/10.5255/UKDA-SN-6252-2'>https://doi.org/10.5255/UKDA-SN-6252-2</a></td></tr><tr><td>Department For Work And Pensions, Office For National Statistics, S., &amp; National Centre For Social Research. (2014). <i>Family Resources Survey, 2006-2007</i> (3rd Edition). UK Data Service. <a href='https://doi.org/10.5255/UKDA-SN-6079-2'>https://doi.org/10.5255/UKDA-SN-6079-2</a></td></tr><tr><td>National Centre For Social Research, Office For National Statistics, S., &amp; Department For Work And Pensions. (2014). <i>Family Resources Survey, 2005-2006</i> (2nd Edition). UK Data Service. <a href='https://doi.org/10.5255/UKDA-SN-5742-2'>https://doi.org/10.5255/UKDA-SN-5742-2</a></td></tr><tr><td>Department For Work And Pensions, National Centre For Social Research, &amp; Office For National Statistics, S. (2014). <i>Family Resources Survey, 2004-2005</i> (3rd Edition). UK Data Service. <a href='https://doi.org/10.5255/UKDA-SN-5291-2'>https://doi.org/10.5255/UKDA-SN-5291-2</a></td></tr><tr><td>Department For Work And Pensions, National Centre For Social Research, &amp; Office For National Statistics, S. (2014). <i>Family Resources Survey, 2003-2004</i> (5th Edition). UK Data Service. <a href='https://doi.org/10.5255/UKDA-SN-5139-2'>https://doi.org/10.5255/UKDA-SN-5139-2</a></td></tr><tr><td>National Centre For Social Research, Department For Work And Pensions, &amp; Office For National Statistics, S. (2014). <i>Family Resources Survey, 2002-2003</i> (5th Edition). UK Data Service. <a href='https://doi.org/10.5255/UKDA-SN-4803-2'>https://doi.org/10.5255/UKDA-SN-4803-2</a></td></tr><tr><td>Office For National Statistics, S., NatCen Social Research, &amp; Department For Work And Pensions. (2021). <i>Family Resources Survey, 2005/06-2019/20, Households Below Average Income, 1994/95-2019/20 and Pensioners' Income, 2007/08-2019/20: Safe Room Access</i> (11th Edition) [Data set]. UK Data Service. <a href='https://doi.org/10.5255/UKDA-SN-7196-12'>https://doi.org/10.5255/UKDA-SN-7196-12</a></td></tr><tr><td>Department For Work And Pensions. (2022). <i>Households Below Average Income, 1994/95-2020/21</i> (16th Edition) [Data set]. UK Data Service. <a href='https://doi.org/10.5255/UKDA-SN-5828-14'>https://doi.org/10.5255/UKDA-SN-5828-14</a></td></tr></table>"
      ],
      "text/plain": [
       "<IPython.core.display.HTML object>"
      ]
     },
     "metadata": {},
     "output_type": "display_data"
    },
    {
     "data": {
      "text/html": [
       "<table></table>"
      ],
      "text/plain": [
       "<IPython.core.display.HTML object>"
      ]
     },
     "metadata": {},
     "output_type": "display_data"
    }
   ],
   "source": [
    "NFDI.main('10.5255/ukda-sn-3592-1')"
   ]
  },
  {
   "cell_type": "code",
   "execution_count": 4,
   "metadata": {},
   "outputs": [
    {
     "ename": "SchemaError",
     "evalue": "'#/definitions/LogicalNot<Predicate>' is not a 'uri-reference'\n\nFailed validating 'format' in metaschema['allOf'][0]['properties']['$ref']:\n    {'format': 'uri-reference', 'type': 'string'}\n\nOn schema['$ref']:\n    '#/definitions/LogicalNot<Predicate>'",
     "output_type": "error",
     "traceback": [
      "\u001b[0;31m---------------------------------------------------------------------------\u001b[0m",
      "\u001b[0;31mSchemaError\u001b[0m                               Traceback (most recent call last)",
      "Cell \u001b[0;32mIn[4], line 4\u001b[0m\n\u001b[1;32m      2\u001b[0m data \u001b[38;5;241m=\u001b[39m NFDI\u001b[38;5;241m.\u001b[39mget_events_by_doi_and_relation_type(\u001b[38;5;124m'\u001b[39m\u001b[38;5;124m10.5255/ukda-sn-3592-1\u001b[39m\u001b[38;5;124m'\u001b[39m, \u001b[38;5;124m'\u001b[39m\u001b[38;5;124mcites\u001b[39m\u001b[38;5;124m'\u001b[39m)\n\u001b[1;32m      3\u001b[0m spec \u001b[38;5;241m=\u001b[39m NFDI\u001b[38;5;241m.\u001b[39mgenerate_histogram_spec(data[\u001b[38;5;124m'\u001b[39m\u001b[38;5;124mmeta\u001b[39m\u001b[38;5;124m'\u001b[39m][\u001b[38;5;124m'\u001b[39m\u001b[38;5;124moccurred\u001b[39m\u001b[38;5;124m'\u001b[39m])\n\u001b[0;32m----> 4\u001b[0m \u001b[43mNFDI\u001b[49m\u001b[38;5;241;43m.\u001b[39;49m\u001b[43mrender_histogram\u001b[49m\u001b[43m(\u001b[49m\u001b[43mspec\u001b[49m\u001b[43m)\u001b[49m\n",
      "File \u001b[0;32m~/Documents/Code/pidgraph-notebooks-python/user-story-nfdi4ing-instrument/functions.py:236\u001b[0m, in \u001b[0;36mrender_histogram\u001b[0;34m(spec)\u001b[0m\n\u001b[1;32m    235\u001b[0m \u001b[39mdef\u001b[39;00m \u001b[39mrender_histogram\u001b[39m(spec):\n\u001b[0;32m--> 236\u001b[0m     alt\u001b[39m.\u001b[39;49mChart\u001b[39m.\u001b[39;49mfrom_dict(spec)\n",
      "File \u001b[0;32m~/.local/lib/python3.10/site-packages/altair/vegalite/v4/api.py:2004\u001b[0m, in \u001b[0;36mChart.from_dict\u001b[0;34m(cls, dct, validate)\u001b[0m\n\u001b[1;32m   2002\u001b[0m     class_ \u001b[39m=\u001b[39m \u001b[39msuper\u001b[39m(Chart, \u001b[39mcls\u001b[39m)\n\u001b[1;32m   2003\u001b[0m \u001b[39mtry\u001b[39;00m:\n\u001b[0;32m-> 2004\u001b[0m     \u001b[39mreturn\u001b[39;00m class_\u001b[39m.\u001b[39;49mfrom_dict(dct, validate\u001b[39m=\u001b[39;49mvalidate)\n\u001b[1;32m   2005\u001b[0m \u001b[39mexcept\u001b[39;00m jsonschema\u001b[39m.\u001b[39mValidationError:\n\u001b[1;32m   2006\u001b[0m     \u001b[39mpass\u001b[39;00m\n",
      "File \u001b[0;32m~/.local/lib/python3.10/site-packages/altair/utils/schemapi.py:411\u001b[0m, in \u001b[0;36mSchemaBase.from_dict\u001b[0;34m(cls, dct, validate, _wrapper_classes)\u001b[0m\n\u001b[1;32m    409\u001b[0m     _wrapper_classes \u001b[39m=\u001b[39m \u001b[39mcls\u001b[39m\u001b[39m.\u001b[39m_default_wrapper_classes()\n\u001b[1;32m    410\u001b[0m converter \u001b[39m=\u001b[39m _FromDict(_wrapper_classes)\n\u001b[0;32m--> 411\u001b[0m \u001b[39mreturn\u001b[39;00m converter\u001b[39m.\u001b[39;49mfrom_dict(dct, \u001b[39mcls\u001b[39;49m)\n",
      "File \u001b[0;32m~/.local/lib/python3.10/site-packages/altair/utils/schemapi.py:575\u001b[0m, in \u001b[0;36m_FromDict.from_dict\u001b[0;34m(self, dct, cls, schema, rootschema, default_class)\u001b[0m\n\u001b[1;32m    573\u001b[0m \u001b[39mfor\u001b[39;00m key, val \u001b[39min\u001b[39;00m dct\u001b[39m.\u001b[39mitems():\n\u001b[1;32m    574\u001b[0m     \u001b[39mif\u001b[39;00m key \u001b[39min\u001b[39;00m props:\n\u001b[0;32m--> 575\u001b[0m         val \u001b[39m=\u001b[39m \u001b[39mself\u001b[39;49m\u001b[39m.\u001b[39;49mfrom_dict(val, schema\u001b[39m=\u001b[39;49mprops[key], rootschema\u001b[39m=\u001b[39;49mrootschema)\n\u001b[1;32m    576\u001b[0m     kwds[key] \u001b[39m=\u001b[39m val\n\u001b[1;32m    577\u001b[0m \u001b[39mreturn\u001b[39;00m \u001b[39mcls\u001b[39m(\u001b[39m*\u001b[39m\u001b[39m*\u001b[39mkwds)\n",
      "File \u001b[0;32m~/.local/lib/python3.10/site-packages/altair/utils/schemapi.py:581\u001b[0m, in \u001b[0;36m_FromDict.from_dict\u001b[0;34m(self, dct, cls, schema, rootschema, default_class)\u001b[0m\n\u001b[1;32m    579\u001b[0m \u001b[39melif\u001b[39;00m \u001b[39misinstance\u001b[39m(dct, \u001b[39mlist\u001b[39m):\n\u001b[1;32m    580\u001b[0m     item_schema \u001b[39m=\u001b[39m schema\u001b[39m.\u001b[39mget(\u001b[39m\"\u001b[39m\u001b[39mitems\u001b[39m\u001b[39m\"\u001b[39m, {})\n\u001b[0;32m--> 581\u001b[0m     dct \u001b[39m=\u001b[39m [\n\u001b[1;32m    582\u001b[0m         \u001b[39mself\u001b[39m\u001b[39m.\u001b[39mfrom_dict(val, schema\u001b[39m=\u001b[39mitem_schema, rootschema\u001b[39m=\u001b[39mrootschema)\n\u001b[1;32m    583\u001b[0m         \u001b[39mfor\u001b[39;00m val \u001b[39min\u001b[39;00m dct\n\u001b[1;32m    584\u001b[0m     ]\n\u001b[1;32m    585\u001b[0m     \u001b[39mreturn\u001b[39;00m \u001b[39mcls\u001b[39m(dct)\n\u001b[1;32m    586\u001b[0m \u001b[39melse\u001b[39;00m:\n",
      "File \u001b[0;32m~/.local/lib/python3.10/site-packages/altair/utils/schemapi.py:582\u001b[0m, in \u001b[0;36m<listcomp>\u001b[0;34m(.0)\u001b[0m\n\u001b[1;32m    579\u001b[0m \u001b[39melif\u001b[39;00m \u001b[39misinstance\u001b[39m(dct, \u001b[39mlist\u001b[39m):\n\u001b[1;32m    580\u001b[0m     item_schema \u001b[39m=\u001b[39m schema\u001b[39m.\u001b[39mget(\u001b[39m\"\u001b[39m\u001b[39mitems\u001b[39m\u001b[39m\"\u001b[39m, {})\n\u001b[1;32m    581\u001b[0m     dct \u001b[39m=\u001b[39m [\n\u001b[0;32m--> 582\u001b[0m         \u001b[39mself\u001b[39;49m\u001b[39m.\u001b[39;49mfrom_dict(val, schema\u001b[39m=\u001b[39;49mitem_schema, rootschema\u001b[39m=\u001b[39;49mrootschema)\n\u001b[1;32m    583\u001b[0m         \u001b[39mfor\u001b[39;00m val \u001b[39min\u001b[39;00m dct\n\u001b[1;32m    584\u001b[0m     ]\n\u001b[1;32m    585\u001b[0m     \u001b[39mreturn\u001b[39;00m \u001b[39mcls\u001b[39m(dct)\n\u001b[1;32m    586\u001b[0m \u001b[39melse\u001b[39;00m:\n",
      "File \u001b[0;32m~/.local/lib/python3.10/site-packages/altair/utils/schemapi.py:562\u001b[0m, in \u001b[0;36m_FromDict.from_dict\u001b[0;34m(self, dct, cls, schema, rootschema, default_class)\u001b[0m\n\u001b[1;32m    560\u001b[0m             \u001b[39mcontinue\u001b[39;00m\n\u001b[1;32m    561\u001b[0m         \u001b[39melse\u001b[39;00m:\n\u001b[0;32m--> 562\u001b[0m             \u001b[39mreturn\u001b[39;00m \u001b[39mself\u001b[39;49m\u001b[39m.\u001b[39;49mfrom_dict(\n\u001b[1;32m    563\u001b[0m                 dct,\n\u001b[1;32m    564\u001b[0m                 schema\u001b[39m=\u001b[39;49mpossible_schema,\n\u001b[1;32m    565\u001b[0m                 rootschema\u001b[39m=\u001b[39;49mrootschema,\n\u001b[1;32m    566\u001b[0m                 default_class\u001b[39m=\u001b[39;49m\u001b[39mcls\u001b[39;49m,\n\u001b[1;32m    567\u001b[0m             )\n\u001b[1;32m    569\u001b[0m \u001b[39mif\u001b[39;00m \u001b[39misinstance\u001b[39m(dct, \u001b[39mdict\u001b[39m):\n\u001b[1;32m    570\u001b[0m     \u001b[39m# TODO: handle schemas for additionalProperties/patternProperties\u001b[39;00m\n\u001b[1;32m    571\u001b[0m     props \u001b[39m=\u001b[39m schema\u001b[39m.\u001b[39mget(\u001b[39m\"\u001b[39m\u001b[39mproperties\u001b[39m\u001b[39m\"\u001b[39m, {})\n",
      "File \u001b[0;32m~/.local/lib/python3.10/site-packages/altair/utils/schemapi.py:575\u001b[0m, in \u001b[0;36m_FromDict.from_dict\u001b[0;34m(self, dct, cls, schema, rootschema, default_class)\u001b[0m\n\u001b[1;32m    573\u001b[0m \u001b[39mfor\u001b[39;00m key, val \u001b[39min\u001b[39;00m dct\u001b[39m.\u001b[39mitems():\n\u001b[1;32m    574\u001b[0m     \u001b[39mif\u001b[39;00m key \u001b[39min\u001b[39;00m props:\n\u001b[0;32m--> 575\u001b[0m         val \u001b[39m=\u001b[39m \u001b[39mself\u001b[39;49m\u001b[39m.\u001b[39;49mfrom_dict(val, schema\u001b[39m=\u001b[39;49mprops[key], rootschema\u001b[39m=\u001b[39;49mrootschema)\n\u001b[1;32m    576\u001b[0m     kwds[key] \u001b[39m=\u001b[39m val\n\u001b[1;32m    577\u001b[0m \u001b[39mreturn\u001b[39;00m \u001b[39mcls\u001b[39m(\u001b[39m*\u001b[39m\u001b[39m*\u001b[39mkwds)\n",
      "File \u001b[0;32m~/.local/lib/python3.10/site-packages/altair/utils/schemapi.py:558\u001b[0m, in \u001b[0;36m_FromDict.from_dict\u001b[0;34m(self, dct, cls, schema, rootschema, default_class)\u001b[0m\n\u001b[1;32m    556\u001b[0m resolver \u001b[39m=\u001b[39m jsonschema\u001b[39m.\u001b[39mRefResolver\u001b[39m.\u001b[39mfrom_schema(rootschema)\n\u001b[1;32m    557\u001b[0m \u001b[39mtry\u001b[39;00m:\n\u001b[0;32m--> 558\u001b[0m     jsonschema\u001b[39m.\u001b[39;49mvalidate(dct, possible_schema, resolver\u001b[39m=\u001b[39;49mresolver)\n\u001b[1;32m    559\u001b[0m \u001b[39mexcept\u001b[39;00m jsonschema\u001b[39m.\u001b[39mValidationError:\n\u001b[1;32m    560\u001b[0m     \u001b[39mcontinue\u001b[39;00m\n",
      "File \u001b[0;32m~/.local/lib/python3.10/site-packages/jsonschema/validators.py:1117\u001b[0m, in \u001b[0;36mvalidate\u001b[0;34m(instance, schema, cls, *args, **kwargs)\u001b[0m\n\u001b[1;32m   1114\u001b[0m \u001b[39mif\u001b[39;00m \u001b[39mcls\u001b[39m \u001b[39mis\u001b[39;00m \u001b[39mNone\u001b[39;00m:\n\u001b[1;32m   1115\u001b[0m     \u001b[39mcls\u001b[39m \u001b[39m=\u001b[39m validator_for(schema)\n\u001b[0;32m-> 1117\u001b[0m \u001b[39mcls\u001b[39;49m\u001b[39m.\u001b[39;49mcheck_schema(schema)\n\u001b[1;32m   1118\u001b[0m validator \u001b[39m=\u001b[39m \u001b[39mcls\u001b[39m(schema, \u001b[39m*\u001b[39margs, \u001b[39m*\u001b[39m\u001b[39m*\u001b[39mkwargs)\n\u001b[1;32m   1119\u001b[0m error \u001b[39m=\u001b[39m exceptions\u001b[39m.\u001b[39mbest_match(validator\u001b[39m.\u001b[39miter_errors(instance))\n",
      "File \u001b[0;32m~/.local/lib/python3.10/site-packages/jsonschema/validators.py:231\u001b[0m, in \u001b[0;36mcreate.<locals>.Validator.check_schema\u001b[0;34m(cls, schema, format_checker)\u001b[0m\n\u001b[1;32m    226\u001b[0m validator \u001b[39m=\u001b[39m Validator(\n\u001b[1;32m    227\u001b[0m     schema\u001b[39m=\u001b[39m\u001b[39mcls\u001b[39m\u001b[39m.\u001b[39mMETA_SCHEMA,\n\u001b[1;32m    228\u001b[0m     format_checker\u001b[39m=\u001b[39mformat_checker,\n\u001b[1;32m    229\u001b[0m )\n\u001b[1;32m    230\u001b[0m \u001b[39mfor\u001b[39;00m error \u001b[39min\u001b[39;00m validator\u001b[39m.\u001b[39miter_errors(schema):\n\u001b[0;32m--> 231\u001b[0m     \u001b[39mraise\u001b[39;00m exceptions\u001b[39m.\u001b[39mSchemaError\u001b[39m.\u001b[39mcreate_from(error)\n",
      "\u001b[0;31mSchemaError\u001b[0m: '#/definitions/LogicalNot<Predicate>' is not a 'uri-reference'\n\nFailed validating 'format' in metaschema['allOf'][0]['properties']['$ref']:\n    {'format': 'uri-reference', 'type': 'string'}\n\nOn schema['$ref']:\n    '#/definitions/LogicalNot<Predicate>'"
     ]
    }
   ],
   "source": [
    "NFDI.get_events_by_doi_and_relation_type('10.5255/ukda-sn-3592-1', 'cites')\n",
    "data = NFDI.get_events_by_doi_and_relation_type('10.5255/ukda-sn-3592-1', 'cites')\n",
    "spec = NFDI.generate_histogram_spec(data['meta']['occurred'])\n",
    "NFDI.render_histogram(spec)\n"
   ]
  }
 ],
 "metadata": {
  "kernelspec": {
   "display_name": "Python 3",
   "language": "python",
   "name": "python3"
  },
  "language_info": {
   "codemirror_mode": {
    "name": "ipython",
    "version": 3
   },
   "file_extension": ".py",
   "mimetype": "text/x-python",
   "name": "python",
   "nbconvert_exporter": "python",
   "pygments_lexer": "ipython3",
   "version": "3.8.15"
  },
  "vscode": {
   "interpreter": {
    "hash": "1ee38ef4a5a9feb55287fd749643f13d043cb0a7addaab2a9c224cbe137c0062"
   }
  }
 },
 "nbformat": 4,
 "nbformat_minor": 4
}
