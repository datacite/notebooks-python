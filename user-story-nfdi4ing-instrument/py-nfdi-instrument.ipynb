{
 "cells": [
  {
   "cell_type": "markdown",
   "metadata": {},
   "source": [
    " ![FREYA Logo](https://github.com/datacite/pidgraph-notebooks-python/blob/master/images/freya_200x121.png?raw=true) | [FREYA](https://www.project-freya.eu/en) WP2 [User Story 2](https://github.com/datacite/freya/issues/63) | As a software author, I want to be able to see the citations of my software aggregated across all versions, so that I see a complete picture of reuse.\n",
    " :------------- | :------------- | :-------------\n",
    "\n",
    "Software development process involves versioned releases. Consequently, different software versions may be used for scientific discovery and thus referenced in publications. In order to quantify impact of a software, its author must be able to capture the reuse of the software across all its versions.<p />\n",
    "This notebook uses the [DataCite GraphQL API](https://api.datacite.org/graphql) to retrieve metadata about software titled: [Calculation Package: Inverting topography for landscape evolution model process representation](https://doi.org/10.5281/zenodo.2799488), including all its versions, so that its overall reuse can be quantified.\n",
    "\n",
    "**Goal**: By the end of this notebook, for a given software you should be able to display:\n",
    "- Counts of <ins>citations, views and downloads</ins> metrics, aggregated across all versions of the software\n",
    "- An interactive stacked bar plot showing how the metric counts of each version contribute to the corresponding aggregated metric counts, e.g.<br> <img src=\"example_plot.png\" width=\"258\" height=\"215\" />"
   ]
  },
  {
   "cell_type": "markdown",
   "metadata": {},
   "source": [
    "## Install libraries and prepare GraphQL client"
   ]
  },
  {
   "cell_type": "code",
   "execution_count": 35,
   "metadata": {},
   "outputs": [],
   "source": [
    "%%capture\n",
    "# Install required Python packages\n",
    "!pip install gql requests altair vega"
   ]
  },
  {
   "cell_type": "code",
   "execution_count": 65,
   "metadata": {},
   "outputs": [
    {
     "data": {
      "text/plain": [
       "RendererRegistry.enable('default')"
      ]
     },
     "execution_count": 65,
     "metadata": {},
     "output_type": "execute_result"
    }
   ],
   "source": [
    "import functions as NFDI\n",
    "import altair as alt\n",
    "import vega\n",
    "alt.renderers.enable('default')\n"
   ]
  },
  {
   "cell_type": "code",
   "execution_count": 73,
   "metadata": {},
   "outputs": [],
   "source": [
    "NFDI.get_events_by_doi_and_relation_type('10.5255/ukda-sn-3592-1', 'cites')\n",
    "data = NFDI.get_events_by_doi_and_relation_type('10.5255/ukda-sn-3592-1', 'cites')\n",
    "specd = NFDI.generate_histogram_spec(data['meta']['occurred'])\n"
   ]
  },
  {
   "cell_type": "code",
   "execution_count": 77,
   "metadata": {},
   "outputs": [],
   "source": [
    "NFDI.render_histogram(specd)"
   ]
  },
  {
   "cell_type": "code",
   "execution_count": 78,
   "metadata": {},
   "outputs": [],
   "source": [
    "# NFDI.get_metadata_display('10.5255/ukda-sn-3592-1')\n",
    "# NFDI.view_metadata_display(data)"
   ]
  },
  {
   "cell_type": "code",
   "execution_count": 79,
   "metadata": {},
   "outputs": [
    {
     "data": {
      "text/html": [
       "\n",
       "<div id=\"altair-viz-acc078aaa99d4d3d81b40e3f0c238bdd\"></div>\n",
       "<script type=\"text/javascript\">\n",
       "  (function(spec, embedOpt){\n",
       "    let outputDiv = document.currentScript.previousElementSibling;\n",
       "    if (outputDiv.id !== \"altair-viz-acc078aaa99d4d3d81b40e3f0c238bdd\") {\n",
       "      outputDiv = document.getElementById(\"altair-viz-acc078aaa99d4d3d81b40e3f0c238bdd\");\n",
       "    }\n",
       "    const paths = {\n",
       "      \"vega\": \"https://cdn.jsdelivr.net/npm//vega@5?noext\",\n",
       "      \"vega-lib\": \"https://cdn.jsdelivr.net/npm//vega-lib?noext\",\n",
       "      \"vega-lite\": \"https://cdn.jsdelivr.net/npm//vega-lite@4.8.1?noext\",\n",
       "      \"vega-embed\": \"https://cdn.jsdelivr.net/npm//vega-embed@6?noext\",\n",
       "    };\n",
       "\n",
       "    function loadScript(lib) {\n",
       "      return new Promise(function(resolve, reject) {\n",
       "        var s = document.createElement('script');\n",
       "        s.src = paths[lib];\n",
       "        s.async = true;\n",
       "        s.onload = () => resolve(paths[lib]);\n",
       "        s.onerror = () => reject(`Error loading script: ${paths[lib]}`);\n",
       "        document.getElementsByTagName(\"head\")[0].appendChild(s);\n",
       "      });\n",
       "    }\n",
       "\n",
       "    function showError(err) {\n",
       "      outputDiv.innerHTML = `<div class=\"error\" style=\"color:red;\">${err}</div>`;\n",
       "      throw err;\n",
       "    }\n",
       "\n",
       "    function displayChart(vegaEmbed) {\n",
       "      vegaEmbed(outputDiv, spec, embedOpt)\n",
       "        .catch(err => showError(`Javascript Error: ${err.message}<br>This usually means there's a typo in your chart specification. See the javascript console for the full traceback.`));\n",
       "    }\n",
       "\n",
       "    if(typeof define === \"function\" && define.amd) {\n",
       "      requirejs.config({paths});\n",
       "      require([\"vega-embed\"], displayChart, err => showError(`Error loading script: ${err.message}`));\n",
       "    } else if (typeof vegaEmbed === \"function\") {\n",
       "      displayChart(vegaEmbed);\n",
       "    } else {\n",
       "      loadScript(\"vega\")\n",
       "        .then(() => loadScript(\"vega-lite\"))\n",
       "        .then(() => loadScript(\"vega-embed\"))\n",
       "        .catch(showError)\n",
       "        .then(() => displayChart(vegaEmbed));\n",
       "    }\n",
       "  })({\"config\": {\"view\": {\"continuousWidth\": 400, \"continuousHeight\": 300, \"stroke\": null}, \"axis\": {\"grid\": false, \"labelFlush\": false, \"title\": null}}, \"data\": {\"name\": \"data-6be4bdaafc2ba1ecc6f2a4c0fc27a672\"}, \"mark\": {\"type\": \"bar\", \"cursor\": \"pointer\", \"tooltip\": true}, \"encoding\": {\"color\": {\"type\": \"nominal\", \"condition\": [{\"selection\": \"highlight\", \"value\": \"#34495e\"}], \"field\": \"count\", \"legend\": null, \"scale\": {\"range\": [\"#1abc9c\"]}}, \"x\": {\"type\": \"quantitative\", \"axis\": {\"format\": \"1\", \"labelExpr\": \"datum.title % 5 === 0 ? datum.title : \\\"\\\"\"}, \"bin\": {\"binned\": true, \"maxbins\": 10.0, \"step\": 1}, \"field\": \"period\", \"scale\": {\"domain\": [2014.0, 2024]}}, \"x2\": {\"field\": \"bin_end\"}, \"y\": {\"type\": \"quantitative\", \"axis\": {\"format\": \",f\", \"tickMinStep\": 1}, \"field\": \"count\"}}, \"padding\": {\"left\": 5, \"top\": 5, \"right\": 5, \"bottom\": 5}, \"selection\": {\"highlight\": {\"type\": \"single\", \"empty\": \"none\", \"on\": \"mouseover\"}}, \"transform\": [{\"calculate\": \"toNumber(datum.title)\", \"as\": \"period\"}, {\"calculate\": \"toNumber(datum.title)+1\", \"as\": \"bin_end\"}, {\"filter\": \"toNumber(datum.title) >= 2014.0\"}], \"width\": 500, \"$schema\": \"https://vega.github.io/schema/vega-lite/v4.json\", \"datasets\": {\"data-6be4bdaafc2ba1ecc6f2a4c0fc27a672\": [{\"id\": \"2022\", \"title\": \"2022\", \"count\": 67}, {\"id\": \"2021\", \"title\": \"2021\", \"count\": 1}, {\"id\": \"2019\", \"title\": \"2019\", \"count\": 2}]}}, {\"mode\": \"vega-lite\"});\n",
       "</script>"
      ],
      "text/plain": [
       "alt.Chart(...)"
      ]
     },
     "execution_count": 79,
     "metadata": {},
     "output_type": "execute_result"
    }
   ],
   "source": [
    "# spec = {\n",
    "#   \"$schema\": \"https://vega.github.io/schema/vega-lite/v4.json\",\n",
    "#   \"description\": \"A simple bar chart with embedded data.\",\n",
    "#   \"data\": {\n",
    "#     \"values\": [\n",
    "#       {\"a\": \"A\",\"b\": 28}, {\"a\": \"B\",\"b\": 55}, {\"a\": \"C\",\"b\": 43},\n",
    "#       {\"a\": \"D\",\"b\": 91}, {\"a\": \"E\",\"b\": 81}, {\"a\": \"F\",\"b\": 53},\n",
    "#       {\"a\": \"G\",\"b\": 19}, {\"a\": \"H\",\"b\": 87}, {\"a\": \"I\",\"b\": 52}\n",
    "#     ]\n",
    "#   },\n",
    "#   \"mark\": \"bar\",\n",
    "#   \"encoding\": {\n",
    "#     \"x\": {\"field\": \"a\", \"type\": \"ordinal\"},\n",
    "#     \"y\": {\"field\": \"b\", \"type\": \"quantitative\"}\n",
    "#   }\n",
    "# }\n",
    "\n",
    "\n",
    "\n",
    "\n",
    "alt.Chart.from_dict(specd)"
   ]
  },
  {
   "cell_type": "code",
   "execution_count": 80,
   "metadata": {},
   "outputs": [
    {
     "ename": "TypeError",
     "evalue": "render_histogram() missing 1 required positional argument: 'spec'",
     "output_type": "error",
     "traceback": [
      "\u001b[0;31m---------------------------------------------------------------------------\u001b[0m",
      "\u001b[0;31mTypeError\u001b[0m                                 Traceback (most recent call last)",
      "\u001b[0;32m<ipython-input-80-bf2962f700ab>\u001b[0m in \u001b[0;36m<module>\u001b[0;34m\u001b[0m\n\u001b[0;32m----> 1\u001b[0;31m \u001b[0mNFDI\u001b[0m\u001b[0;34m.\u001b[0m\u001b[0mrender_histogram\u001b[0m\u001b[0;34m(\u001b[0m\u001b[0;34m)\u001b[0m\u001b[0;34m\u001b[0m\u001b[0;34m\u001b[0m\u001b[0m\n\u001b[0m",
      "\u001b[0;31mTypeError\u001b[0m: render_histogram() missing 1 required positional argument: 'spec'"
     ]
    }
   ],
   "source": []
  },
  {
   "cell_type": "code",
   "execution_count": null,
   "metadata": {},
   "outputs": [
    {
     "name": "stdout",
     "output_type": "stream",
     "text": [
      "{'$schema': 'https://vega.github.io/schema/vega-lite/v4.json', 'data': {'values': [{'id': '2022', 'title': '2022', 'count': 67}, {'id': '2021', 'title': '2021', 'count': 1}, {'id': '2019', 'title': '2019', 'count': 2}]}, 'padding': {'left': 5, 'top': 5, 'right': 5, 'bottom': 5}, 'transform': [{'calculate': 'toNumber(datum.title)', 'as': 'period'}, {'calculate': 'toNumber(datum.title)+1', 'as': 'bin_end'}, {'filter': 'toNumber(datum.title) >= 2014.0'}], 'width': 500, 'mark': {'type': 'bar', 'cursor': 'pointer', 'tooltip': True}, 'selection': {'highlight': {'type': 'single', 'empty': 'none', 'on': 'mouseover'}}, 'encoding': {'x': {'field': 'period', 'bin': {'binned': True, 'step': 1, 'maxbins': 10.0}, 'type': 'quantitative', 'axis': {'format': '1', 'labelExpr': 'datum.title % 5 === 0 ? datum.title : \"\"'}, 'scale': {'domain': [2014.0, 2024]}}, 'x2': {'field': 'bin_end'}, 'y': {'field': 'count', 'type': 'quantitative', 'axis': {'format': ',f', 'tickMinStep': 1}}, 'color': {'field': 'count', 'scale': {'range': ['#1abc9c']}, 'type': 'nominal', 'legend': None, 'condition': [{'selection': 'highlight', 'value': '#34495e'}]}}, 'config': {'view': {'stroke': None}, 'axis': {'grid': False, 'title': None, 'labelFlush': False}}}\n"
     ]
    }
   ],
   "source": [
    "print(spec)"
   ]
  }
 ],
 "metadata": {
  "kernelspec": {
   "display_name": "Python 3",
   "language": "python",
   "name": "python3"
  },
  "language_info": {
   "codemirror_mode": {
    "name": "ipython",
    "version": 3
   },
   "file_extension": ".py",
   "mimetype": "text/x-python",
   "name": "python",
   "nbconvert_exporter": "python",
   "pygments_lexer": "ipython3",
   "version": "3.8.15"
  },
  "vscode": {
   "interpreter": {
    "hash": "1ee38ef4a5a9feb55287fd749643f13d043cb0a7addaab2a9c224cbe137c0062"
   }
  }
 },
 "nbformat": 4,
 "nbformat_minor": 4
}
